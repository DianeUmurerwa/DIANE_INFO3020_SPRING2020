{
  "nbformat": 4,
  "nbformat_minor": 0,
  "metadata": {
    "colab": {
      "name": "Untitled31.ipynb",
      "provenance": [],
      "authorship_tag": "ABX9TyNV+Ypknm9gWkCOk7HIkFo6",
      "include_colab_link": true
    },
    "kernelspec": {
      "name": "python3",
      "display_name": "Python 3"
    }
  },
  "cells": [
    {
      "cell_type": "markdown",
      "metadata": {
        "id": "view-in-github",
        "colab_type": "text"
      },
      "source": [
        "<a href=\"https://colab.research.google.com/github/DianeUmurerwa/DIANE_INFO3020_SPRING2020/blob/master/Assignment10-1.ipynb\" target=\"_parent\"><img src=\"https://colab.research.google.com/assets/colab-badge.svg\" alt=\"Open In Colab\"/></a>"
      ]
    },
    {
      "cell_type": "code",
      "metadata": {
        "id": "CCAtqS9AWi6p",
        "colab_type": "code",
        "colab": {}
      },
      "source": [
        "#create a tstudent table in MySQL database\n",
        "import pymysql\n",
        "\n",
        "def stdnt():\n",
        "    db = pymysql.connect(\"localhost\",\"root\",\"python\",\"pydb\")\n",
        "    dbcursor = db.cursor()\n",
        "    stuid =input(\"Please enter a student ID:\")\n",
        "    stuname = input(\"Please enter a student name:\")\n",
        "    major=input(\"please enter their major:\")\n",
        "    stuyear= input(\"Please enter their year:\")\n",
        "    tuition= input(\"Please enter their tuition\")\n",
        "    stugender=input(\"Please enter the student's gender\")\n",
        "\n",
        "    sql =\"insert into tstudent(stuid, stuname, major, stuyear, tuition, gender) values(%s,%s,%s,%s,%s, %s)\"\n",
        "    values=(stuid,stuname,major, stuyear, tuition,stugender)\n",
        "\n",
        "    dbcursor.execute(sql,values)\n",
        "    db.commit()\n",
        "    dbcursor.close()\n",
        "    db.close()\n",
        "stdnt()\n"
      ],
      "execution_count": 0,
      "outputs": []
    },
    {
      "cell_type": "code",
      "metadata": {
        "id": "zc37nvupZiYu",
        "colab_type": "code",
        "colab": {}
      },
      "source": [
        "#using world.sql, import into MySQL server, write a function to retrieve all data from table country\n",
        "\n",
        "import pymysql\n",
        "\n",
        "def getdata():\n",
        "  db= pymysql.connect(\"localhost\",\"root\",\"python\",\"world\")\n",
        "  cursor=db.cursor()\n",
        "  sql=\"select * from country \"\n",
        "  cursor.execute(sql)\n",
        "  data= cursor.fetchall()\n",
        "  cursor.close()\n",
        "  db.close()\n",
        "  return data\n",
        "\n",
        "def getdatabyname(name):\n",
        "  db=pymysql.connect(\"localhost\",\"root\",\"python\",\"world\")\n",
        "  cursor=db.cursor()\n",
        "  sql=\"select * from country where Name=' \"+name+\"'\"\n",
        "  cursor.execute(sql)\n",
        "  data=cursor.fetchall()\n",
        "  cursor.close()\n",
        "  db.close()\n",
        "  return data\n",
        "\n",
        "def printdata(data):\n",
        "  print(\"Code \\t Name \\t Continent \\t\\t Region\")\n",
        "  print(\"---------------------------------------\")\n",
        "  for row in data:\n",
        "    print(str(row[0])+\"\\t\\t\"+row[1]+\"\\t\"+row[2]+\"\\t\\t\"+str(row[3]))\n",
        "    print(\"------------------------------------------------------\")\n",
        "    data=\"\"\n",
        "\n",
        "data= getdata()\n",
        "printdata(data)\n",
        "data= getdatabyname('China')\n",
        "print(data)"
      ],
      "execution_count": 0,
      "outputs": []
    }
  ]
}