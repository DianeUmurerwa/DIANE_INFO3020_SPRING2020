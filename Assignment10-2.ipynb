{
  "nbformat": 4,
  "nbformat_minor": 0,
  "metadata": {
    "colab": {
      "name": "Untitled32.ipynb",
      "provenance": [],
      "authorship_tag": "ABX9TyM+2rL4OpfZ/DRWmtAt8Lae",
      "include_colab_link": true
    },
    "kernelspec": {
      "name": "python3",
      "display_name": "Python 3"
    }
  },
  "cells": [
    {
      "cell_type": "markdown",
      "metadata": {
        "id": "view-in-github",
        "colab_type": "text"
      },
      "source": [
        "<a href=\"https://colab.research.google.com/github/DianeUmurerwa/DIANE_INFO3020_SPRING2020/blob/master/Assignment10-2.ipynb\" target=\"_parent\"><img src=\"https://colab.research.google.com/assets/colab-badge.svg\" alt=\"Open In Colab\"/></a>"
      ]
    },
    {
      "cell_type": "code",
      "metadata": {
        "id": "jIqZ-_wIfNoc",
        "colab_type": "code",
        "colab": {}
      },
      "source": [
        "#function that can add a student into the table\n",
        "import pymysql\n",
        "\n",
        "def addstdnt():\n",
        "    db = pymysql.connect(\"localhost\",\"root\",\"python\",\"pydb\")\n",
        "    dbcursor = db.cursor()\n",
        "    stuid =int(input(\"Please enter a student ID:\"))\n",
        "    stuname = input(\"Please enter a student name:\")\n",
        "    major=input(\"please enter their major:\")\n",
        "    stuyear=int( input(\"Please enter their year:\"))\n",
        "    tuition= input(\"Please enter their tuition\")\n",
        "    stugender=input(\"Please enter the student's gender\")\n",
        "\n",
        "    sql =\"insert into tstudent(stuid, stuname, major, stuyear, tuition, gender) values(%s,%s,%s,%s,%s, %s)\"\n",
        "    values=(stuid,stuname,major, stuyear, tuition,stugender)\n",
        "\n",
        "    dbcursor.execute(sql,values)\n",
        "    db.commit()\n",
        "    dbcursor.close()\n",
        "    db.close()\n",
        "addstdnt()"
      ],
      "execution_count": 0,
      "outputs": []
    },
    {
      "cell_type": "code",
      "metadata": {
        "id": "IrVedPkUf-Z0",
        "colab_type": "code",
        "colab": {}
      },
      "source": [
        "#can delete a student by stuid\n",
        "import pymysql\n",
        "\n",
        "def delStuId():\n",
        "    db = pymysql.connect(\"localhost\",\"root\",\"python\",\"pydb\")\n",
        "    dbcursor = db.cursor()\n",
        "    stuid= int(input(\"please enter the student Id you want to delete:\"))\n",
        "    sql=\"Delete from tstudent where stuid=%s\"\n",
        "    dbcursor.execute(sql,stuid)\n",
        "    db.commit()\n",
        "    dbcursor.close()\n",
        "    db.close()\n",
        "delStuId()  \n",
        "\n"
      ],
      "execution_count": 0,
      "outputs": []
    },
    {
      "cell_type": "code",
      "metadata": {
        "id": "Npid3oOGgaql",
        "colab_type": "code",
        "colab": {}
      },
      "source": [
        "#can modify student name\n",
        "import pymysql\n",
        "\n",
        "def modifystu():\n",
        "\n",
        "    db = pymysql.connect(\"localhost\",\"root\",\"python\",\"pydb\")\n",
        "    dbcursor = db.cursor()\n",
        "    stuid =input(\"Please enter a student ID:\")\n",
        "    stuname = input(\"Please enter a student name:\")\n",
        "    major=input(\"please enter their major:\")\n",
        "    stuyear= input(\"Please enter their year:\")\n",
        "    tuition= input(\"Please enter their tuition\")\n",
        "    stugender=input(\"Please enter the student's gender\")\n",
        "\n",
        "    sql =\"update tstudent set stuname= %s, major=%s, stuyear=%s, tuition=%s, gender=%s where stuid=%s\"\n",
        "    values=(stuname,major, stuyear, tuition,stugender,stuid)\n",
        "    dbcursor.execute(sql,values)\n",
        "    db.commit()\n",
        "    dbcursor.close()\n",
        "    db.close()\n",
        "\n",
        "modifystu()  "
      ],
      "execution_count": 0,
      "outputs": []
    },
    {
      "cell_type": "code",
      "metadata": {
        "id": "RD1_Smlkj6sw",
        "colab_type": "code",
        "colab": {}
      },
      "source": [
        "#can count students in one specific major\n",
        "import pymysql\n",
        "\n",
        "def numStu():\n",
        "    \n",
        "    db = pymysql.connect(\"localhost\",\"root\",\"python\",\"pydb\")\n",
        "    dbcursor = db.cursor()\n",
        "    stumajor=input(\"please enter a major you want to count:\")\n",
        "\n",
        "    sql=\"select count(*) as totalstudent from tstudent group by major having major=%s\"\n",
        "    dbcursor.execute(sql,major)\n",
        "    result=dbcursor.fetchone()\n",
        "    print(\"there are \"+str(result[0])+\"  students in the major of \"+major)\n",
        "    dbcursor.close()\n",
        "    db.close()\n",
        "\n",
        "numStu()\n"
      ],
      "execution_count": 0,
      "outputs": []
    },
    {
      "cell_type": "code",
      "metadata": {
        "id": "50YgYjiMk_CR",
        "colab_type": "code",
        "colab": {}
      },
      "source": [
        "#function can get one student id and name randomly\n",
        "import pymysql\n",
        "\n",
        "def randomStu():\n",
        "    \n",
        "    db = pymysql.connect(\"localhost\",\"root\",\"python\",\"pydb\")\n",
        "    dbcursor = db.cursor()\n",
        "\n",
        "    sql=\"select * from tstudent\"\n",
        "    stuidList=[]\n",
        "    dbcursor.execute(sql)\n",
        "    results=dbcursor.fetchall()\n",
        "\n",
        "    for result in results:\n",
        "        stuidList.append([result[0],result[1]])\n",
        "    import random\n",
        "    randomId= random.randint(0,len(stuidList))\n",
        "    print(stuidList[randomId-1])\n",
        "    db.cursor.close()\n",
        "    db.close()\n",
        "\n",
        "randomstu()"
      ],
      "execution_count": 0,
      "outputs": []
    }
  ]
}