{
  "nbformat": 4,
  "nbformat_minor": 0,
  "metadata": {
    "colab": {
      "name": "Untitled33.ipynb",
      "provenance": [],
      "authorship_tag": "ABX9TyNCYgyKBqsIBFh7ZAavu1y9",
      "include_colab_link": true
    },
    "kernelspec": {
      "name": "python3",
      "display_name": "Python 3"
    }
  },
  "cells": [
    {
      "cell_type": "markdown",
      "metadata": {
        "id": "view-in-github",
        "colab_type": "text"
      },
      "source": [
        "<a href=\"https://colab.research.google.com/github/DianeUmurerwa/DIANE_INFO3020_SPRING2020/blob/master/Assignment11-1.ipynb\" target=\"_parent\"><img src=\"https://colab.research.google.com/assets/colab-badge.svg\" alt=\"Open In Colab\"/></a>"
      ]
    },
    {
      "cell_type": "code",
      "metadata": {
        "id": "qz7uEtlemswZ",
        "colab_type": "code",
        "colab": {}
      },
      "source": [
        "import pandas as pd\n",
        "import pymysql\n",
        "\n",
        "def connectdb():\n",
        "    db = pymysql.connect(\"localhost\", \"root\", \"python\", \"pydb\")\n",
        "    dbcursor = db.cursor()\n",
        "    return (db,dbcursor)\n",
        "\n",
        "def readcsv():\n",
        "    filename = \"~/Desktop/py/ch02-data.csv\"\n",
        "    readfile=pd.read_csv(filename)\n",
        "    row=len(readfile)\n",
        "    connect=connectdb()\n",
        "    \n",
        "    for i in range(row):\n",
        "        sql = \"insert into ch02date(dates,numbers) value(%s,%s) \"\n",
        "        values=(reader['dates'][i],int(reader['numbers'][i]))\n",
        "        connect[1].execute(sql,values)\n",
        "        connect[0].commit()\n",
        "    connect[1].close()\n",
        "    connect[0].close()\n",
        "\n",
        "def numSum():\n",
        "    connect = connectdb()\n",
        "    sql=\"select dates, sum(numbers) as total from ch02date group by dates\"\n",
        "    connect[1].execute(sql)\n",
        "    results=connect[1].fetchall()\n",
        "    connect[0].close()\n",
        "    connect[1].close()\n",
        "    return results\n",
        "\n",
        "def outputInExcel(results):\n",
        "    dates = []\n",
        "    sum = []\n",
        "    for row in results:\n",
        "        dates.append(row[0])\n",
        "        sum.append(row[1])\n",
        "    head = {'dates': dates, 'sum': sum}\n",
        "    file_path = 'results.xlsx'\n",
        "    writer = pd.ExcelWriter(file_path)\n",
        "    df = pd.DataFrame(head)\n",
        "    df.to_excel(writer, columns=['dates', 'sum'], index=False, encoding='utf-8', sheet_name='results')\n",
        "    writer.save()\n",
        "\n",
        "results=numSum()\n",
        "outputInExcel(results)\n"
      ],
      "execution_count": 0,
      "outputs": []
    },
    {
      "cell_type": "code",
      "metadata": {
        "id": "vUE0f6xUpfBk",
        "colab_type": "code",
        "colab": {}
      },
      "source": [
        "#function that can get the best selling food(foodname and sales) by specific day\n",
        "\n",
        "import pandas as pd\n",
        "\n",
        "def bestsalefood(saledate):\n",
        "    filename=\"~/Desktop/py/assign11-1-catering_sale_all (2).xls\"\n",
        "    data = pd.read_excel(filename, sheet_name ='Sheet1')\n",
        "    row= data.index\n",
        "    sales={}\n",
        "    for i in row:\n",
        "        date = str(data[\"sale date\"].at[i])\n",
        "        if date == saledate:\n",
        "            for j in range(len(data.keys())):\n",
        "                    if j>0:\n",
        "                        sales[data.keys()[j]]=data[data.keys()[j]].at[i]\n",
        "\n",
        "    return (sales)\n",
        "\n",
        "def maxsales(sales):\n",
        "    maxkey=max(sales,key=sales.get)\n",
        "    maxvalue=sales[maxkey]\n",
        "    return (maxkey,maxvalue)\n",
        "\n",
        "sales=bestsalefood('2015-01-01 00:00:00')\n",
        "print(maxsales(sales))"
      ],
      "execution_count": 0,
      "outputs": []
    }
  ]
}