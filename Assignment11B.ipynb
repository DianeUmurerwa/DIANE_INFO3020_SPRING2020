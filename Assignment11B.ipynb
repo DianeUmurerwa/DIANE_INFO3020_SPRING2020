{
  "nbformat": 4,
  "nbformat_minor": 0,
  "metadata": {
    "colab": {
      "name": "Untitled25.ipynb",
      "provenance": [],
      "authorship_tag": "ABX9TyOKFpPfJ78nwlw21nYcSyAD",
      "include_colab_link": true
    },
    "kernelspec": {
      "name": "python3",
      "display_name": "Python 3"
    }
  },
  "cells": [
    {
      "cell_type": "markdown",
      "metadata": {
        "id": "view-in-github",
        "colab_type": "text"
      },
      "source": [
        "<a href=\"https://colab.research.google.com/github/DianeUmurerwa/DIANE_INFO3020_SPRING2020/blob/master/Assignment11B.ipynb\" target=\"_parent\"><img src=\"https://colab.research.google.com/assets/colab-badge.svg\" alt=\"Open In Colab\"/></a>"
      ]
    },
    {
      "cell_type": "code",
      "metadata": {
        "id": "zafRokd7urb5",
        "colab_type": "code",
        "colab": {}
      },
      "source": [
        "import pymysql\n",
        "import matplotlib.pyplot as plt\n",
        "\n",
        " pydb = pymysql.connect(\"localhost\",\"root\",\"python\",\"world\")\n",
        "dbcursor = pydb.cursor\n",
        "\n",
        "sql=\"select name, life expectancy from country where life expectancy is >79\"\n",
        "command = dbcursor.execute(sql)\n",
        "results = dbcursor.fetchall()\n",
        "\n",
        "countryList=[]\n",
        "lifelist=[]\n",
        "\n",
        "for row in results:\n",
        "         countrylist.append(row[0])\n",
        "         lifelist.append(row[1])\n",
        "\n",
        "plt.ylim(60,100)\n",
        "plt.bar(countrylist,lifelist, width=0.5, aplha =0.7)\n",
        "\n",
        "ptl.show()"
      ],
      "execution_count": 0,
      "outputs": []
    },
    {
      "cell_type": "code",
      "metadata": {
        "id": "gJK11Dm90JLY",
        "colab_type": "code",
        "colab": {}
      },
      "source": [
        "from pylab import*\n",
        "import xlrd\n",
        "from datetime import datetime\n",
        "from xlrd import xldate_as_tuple\n",
        "\n",
        "file = \"     /data/catering_sale_all.xls\"\n",
        "\n",
        "wb = xlrd.open_workbook(filename= file)\n",
        "ws = wb.sheet_by_name(\"sheet1\")\n",
        "\n",
        "salelist=[]\n",
        "foodlist=[]\n",
        "\n",
        "selectdate = input[\"please input a date: \"]\n",
        "\n",
        "for c in range[ws.ncols]:\n",
        "\n",
        "        if c= 0:\n",
        "          foodlist.append[ws.cell(r,0).value,0]\n",
        "          date= date.strftime('%Y-%n-%d')\n",
        "          if date == selectdate:\n",
        "            for c in range(ws.ncols):\n",
        "              if c>0:\n",
        "                   salelist.append(ws.cell(r,c).value)\n",
        "                  \n",
        "\n",
        "labels = foodlist\n",
        "x= salelist\n",
        "explode=[]\n",
        "\n",
        "for _in range(len(labels)):\n",
        "      explode.append(0.1)\n",
        "\n",
        "pie(x,labels = labels, explode = explode, autopct = '%1.1f%%', startangle = 67)\n",
        "\n",
        "title('The sale situation of every food on {0}'.format(selectdate))\n",
        "\n",
        "show()"
      ],
      "execution_count": 0,
      "outputs": []
    }
  ]
}