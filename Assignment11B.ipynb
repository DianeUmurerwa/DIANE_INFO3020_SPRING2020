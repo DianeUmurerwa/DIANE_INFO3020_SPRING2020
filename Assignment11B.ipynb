{
  "nbformat": 4,
  "nbformat_minor": 0,
  "metadata": {
    "colab": {
      "name": "Untitled25.ipynb",
      "provenance": [],
      "authorship_tag": "ABX9TyOPWwIaP1TfUoL8wufLV3xP",
      "include_colab_link": true
    },
    "kernelspec": {
      "name": "python3",
      "display_name": "Python 3"
    }
  },
  "cells": [
    {
      "cell_type": "markdown",
      "metadata": {
        "id": "view-in-github",
        "colab_type": "text"
      },
      "source": [
        "<a href=\"https://colab.research.google.com/github/DianeUmurerwa/DIANE_INFO3020_SPRING2020/blob/master/Assignment11B.ipynb\" target=\"_parent\"><img src=\"https://colab.research.google.com/assets/colab-badge.svg\" alt=\"Open In Colab\"/></a>"
      ]
    },
    {
      "cell_type": "code",
      "metadata": {
        "id": "zafRokd7urb5",
        "colab_type": "code",
        "colab": {}
      },
      "source": [
        "import pymysql\n",
        "import matplotlib.pyplot as plt\n",
        "\n",
        "pydb = pymysql.connect(\"localhost\",\"root\",\"python\",\"world\")\n",
        "dbcursor = pydb.cursor\n",
        "\n",
        "sql=\"select name, life expectancy from country where life expectancy is >65\"\n",
        "command = dbcursor.execute(sql)\n",
        "results = dbcursor.fetchall()\n",
        "\n",
        "countryList=[]\n",
        "lifelist=[]\n",
        "\n",
        "for row in results:\n",
        "         countrylist.append(row[0])\n",
        "         lifelist.append(row[1])\n",
        "\n",
        "plt.stackplot(countrylist, Lifelist, colors =['r','c'])\n",
        "\n",
        "plt.xlabel(\"countries\")\n",
        "plt.ylabel(\"life Expectancy\")\n",
        "plt.xticks(fontsize=16)\n",
        "plt.yticks(fontsize=16)\n",
        "\n",
        "ptl.title('Life expectancy by country')\n",
        "ptl.show()"
      ],
      "execution_count": 0,
      "outputs": []
    },
    {
      "cell_type": "code",
      "metadata": {
        "id": "gJK11Dm90JLY",
        "colab_type": "code",
        "colab": {}
      },
      "source": [
        "from pylab import *\n",
        "import xlrd\n",
        "from datetime import datetime\n",
        "from xlrd import xldate_as_tuple\n",
        "\n",
        "file_location = \"C:/Users/Diane/Downloads/assign11-1-catering_sale_all.xls\"\n",
        "\n",
        "workbook = xlrd.open_workbook(file_location)\n",
        "first_sheet = workbook.sheet_by_name(\"sheet1\")\n",
        "\n",
        "salelist=[]\n",
        "foodlist=[]\n",
        "\n",
        "selectdate = input[\"please input a date:\"]\n",
        "\n",
        "for c in range[workbook.ncols]:\n",
        "\n",
        "        if c>0:\n",
        "          foodlist.append(first_sheet.cell(0,c).value)\n",
        "\n",
        "for r in range(workbook.nrows):\n",
        "        if r>0:\n",
        "          date = datetime(*xldate_as_tuple(ws.cell(r,0).value,0))\n",
        "          date= date.strftime('%Y-%m-%d')\n",
        "          if date == selectdate:\n",
        "            for c in range(first_sheet.ncols):\n",
        "              if c>0:\n",
        "                   salelist.append(first_sheet.cell(r,c).value)\n",
        "                  \n",
        "\n",
        "plt.scatter(saledate, foodlist)\n",
        "plt.title('The sale situation of several kinds of food on {0}'.format(selectdate))\n",
        "\n",
        "plt.show()"
      ],
      "execution_count": 0,
      "outputs": []
    }
  ]
}