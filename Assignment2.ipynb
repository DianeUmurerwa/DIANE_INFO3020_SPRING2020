{
  "nbformat": 4,
  "nbformat_minor": 0,
  "metadata": {
    "colab": {
      "name": "Untitled4.ipynb",
      "provenance": [],
      "authorship_tag": "ABX9TyPUidjV9lRWtaD2DGyH+qBs",
      "include_colab_link": true
    },
    "kernelspec": {
      "name": "python3",
      "display_name": "Python 3"
    }
  },
  "cells": [
    {
      "cell_type": "markdown",
      "metadata": {
        "id": "view-in-github",
        "colab_type": "text"
      },
      "source": [
        "<a href=\"https://colab.research.google.com/github/DianeUmurerwa/DIANE_INFO3020_SPRING2020/blob/master/Assignment2.ipynb\" target=\"_parent\"><img src=\"https://colab.research.google.com/assets/colab-badge.svg\" alt=\"Open In Colab\"/></a>"
      ]
    },
    {
      "cell_type": "code",
      "metadata": {
        "id": "UROKenT4HQr4",
        "colab_type": "code",
        "colab": {
          "base_uri": "https://localhost:8080/",
          "height": 34
        },
        "outputId": "d28ead40-ef3b-4cef-ec01-a4f352a6c5ac"
      },
      "source": [
        "a= \"All\"\n",
        "b = \"work\"\n",
        "c =\"and\"\n",
        "d = \"no\"\n",
        "e =\"play\"\n",
        "f=\"makes\"\n",
        "g=\"Jack\"\n",
        "h =\"a\"\n",
        "i =\"dull\"\n",
        "j =\"boy\"\n",
        "k =\".\"\n",
        "print(a,b,c,d,e,f,g,h,i,j,k)"
      ],
      "execution_count": 2,
      "outputs": [
        {
          "output_type": "stream",
          "text": [
            "All work and no play makes Jack a dull boy .\n"
          ],
          "name": "stdout"
        }
      ]
    },
    {
      "cell_type": "code",
      "metadata": {
        "id": "96o8nBlXIk-Q",
        "colab_type": "code",
        "colab": {
          "base_uri": "https://localhost:8080/",
          "height": 68
        },
        "outputId": "ff048c15-225d-432d-ebae-07dfe66da6f7"
      },
      "source": [
        "a = float(input(\"Enter parameter a: \"))\n",
        "b = float (input(\"Enter parameter b: \"))\n",
        "\n",
        "s = 3.14 * ((1+ a/b)**3) \n",
        "print (\"The result of S is\",s)\n",
        "\n"
      ],
      "execution_count": 9,
      "outputs": [
        {
          "output_type": "stream",
          "text": [
            "Enter parameter a: 6\n",
            "Enter parameter b: 2\n",
            "The result of S is 200.96\n"
          ],
          "name": "stdout"
        }
      ]
    }
  ]
}