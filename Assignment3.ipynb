{
  "nbformat": 4,
  "nbformat_minor": 0,
  "metadata": {
    "colab": {
      "name": "Untitled7.ipynb",
      "provenance": [],
      "authorship_tag": "ABX9TyMMtFudQ+XH41e7Ip1JrHvF",
      "include_colab_link": true
    },
    "kernelspec": {
      "name": "python3",
      "display_name": "Python 3"
    }
  },
  "cells": [
    {
      "cell_type": "markdown",
      "metadata": {
        "id": "view-in-github",
        "colab_type": "text"
      },
      "source": [
        "<a href=\"https://colab.research.google.com/github/DianeUmurerwa/DIANE_INFO3020_SPRING2020/blob/master/Assignment3.ipynb\" target=\"_parent\"><img src=\"https://colab.research.google.com/assets/colab-badge.svg\" alt=\"Open In Colab\"/></a>"
      ]
    },
    {
      "cell_type": "code",
      "metadata": {
        "id": "fh4oy7uOHHUx",
        "colab_type": "code",
        "colab": {
          "base_uri": "https://localhost:8080/",
          "height": 51
        },
        "outputId": "af60f4a3-eef4-4d07-d4b2-7d2bb74f1897"
      },
      "source": [
        "num = int (input (\"Enter a number a day number \"))\n",
        "\n",
        "if num == 0 :\n",
        "   print(\"Sunday\")\n",
        "elif  num == 1 :\n",
        "   print(\"Monday\")\n",
        "elif num == 2:\n",
        "   print (\"Tuesday\")\n",
        "elif num == 3:\n",
        "    print(\"Wednesday\")\n",
        "elif num == 4:\n",
        "  print (\"Thursday\")\n",
        "elif num == 5:\n",
        "  print (\"Friday\")\n",
        "elif num == 6:\n",
        "  print (\"Saturday\")\n",
        "else :\n",
        "     print(\"NOT a valid number \")\n"
      ],
      "execution_count": 65,
      "outputs": [
        {
          "output_type": "stream",
          "text": [
            "Enter a number a day number 1\n",
            "Monday\n"
          ],
          "name": "stdout"
        }
      ]
    },
    {
      "cell_type": "code",
      "metadata": {
        "id": "wW3gTCCcJoiZ",
        "colab_type": "code",
        "colab": {
          "base_uri": "https://localhost:8080/",
          "height": 85
        },
        "outputId": "17a00ae9-2e95-4fb6-b955-5eb902066f68"
      },
      "source": [
        "print(\"Input the lengths of two sides of a right-angled triangle : \")\n",
        "a = float (input(\"a: \"))\n",
        "b = float(input(\"b: \"))\n",
        "length = sqrt (a**2 + b**2)\n",
        "print(\"The length of the hypotenuse is\", length)"
      ],
      "execution_count": 16,
      "outputs": [
        {
          "output_type": "stream",
          "text": [
            "Input the lengths of two sides of a right-angled triangle : \n",
            "a: 3\n",
            "b: 4\n",
            "The length of the hypotenuse is 5.0\n"
          ],
          "name": "stdout"
        }
      ]
    },
    {
      "cell_type": "code",
      "metadata": {
        "id": "61GpxNqHK6Y1",
        "colab_type": "code",
        "colab": {}
      },
      "source": [
        "print(\"The length of 3 sides of a triangle \")\n",
        "a = float (input(\"a: \"))\n",
        "b = float (input(\"b: \"))\n",
        "c = float (input(\"c: \"))\n",
        "if (a**2 + b**2 == c**2) or (c**2 + b**2 == a**2) or (a**2+ c**2 == b**2):\n",
        "  print(\"The triangle is right angled\")\n",
        "elif (a**2 + b**2 != c**2) or (c**2 + b**2 != a**2) or (a**2 + c**2 != b**2):\n",
        "  print (\"the triangle is not right angled\") \n",
        "else:\n",
        "   print(\"the triangle is long sided\")"
      ],
      "execution_count": 0,
      "outputs": []
    },
    {
      "cell_type": "code",
      "metadata": {
        "id": "k-j_O_o8MS7z",
        "colab_type": "code",
        "colab": {
          "base_uri": "https://localhost:8080/",
          "height": 221
        },
        "outputId": "9b99bfa2-e490-4fdf-ecc4-f98d36d90fe8"
      },
      "source": [
        "for months in (\"January\", \"February\",\"March\",\"April\",\"May\",\"June\",\"July\",\"August\",\"September\",\"October\",\"November\",\"December\"):\n",
        "  print(\"one of the months of the year is\", months)\n",
        "\n"
      ],
      "execution_count": 26,
      "outputs": [
        {
          "output_type": "stream",
          "text": [
            "one of the months of the year is January\n",
            "one of the months of the year is February\n",
            "one of the months of the year is March\n",
            "one of the months of the year is April\n",
            "one of the months of the year is May\n",
            "one of the months of the year is June\n",
            "one of the months of the year is July\n",
            "one of the months of the year is August\n",
            "one of the months of the year is September\n",
            "one of the months of the year is October\n",
            "one of the months of the year is November\n",
            "one of the months of the year is December\n"
          ],
          "name": "stdout"
        }
      ]
    },
    {
      "cell_type": "code",
      "metadata": {
        "id": "1IKoJxWPT1NZ",
        "colab_type": "code",
        "colab": {
          "base_uri": "https://localhost:8080/",
          "height": 34
        },
        "outputId": "a84d0dd1-ff84-4df7-d5bd-0488cdf4b8e6"
      },
      "source": [
        "total = 0\n",
        "for num in [12, 10, 32, 3, 66, 17, 42, 99, 20]:\n",
        "   total = total + num\n",
        "print (\"the total is \", total)\n"
      ],
      "execution_count": 47,
      "outputs": [
        {
          "output_type": "stream",
          "text": [
            "the total is  301\n"
          ],
          "name": "stdout"
        }
      ]
    },
    {
      "cell_type": "code",
      "metadata": {
        "id": "XbxBnTTBaiGa",
        "colab_type": "code",
        "colab": {
          "base_uri": "https://localhost:8080/",
          "height": 34
        },
        "outputId": "408ce348-012e-47ea-a088-2b0ae8ae5644"
      },
      "source": [
        "product = 1\n",
        "for num in [12,10,32,3,66,17,42,99,20]:\n",
        " \n",
        "   product *= num\n",
        "print (\"The product is \", product)"
      ],
      "execution_count": 66,
      "outputs": [
        {
          "output_type": "stream",
          "text": [
            "The product is  1074879590400\n"
          ],
          "name": "stdout"
        }
      ]
    },
    {
      "cell_type": "code",
      "metadata": {
        "id": "VKiOC8kLmIL3",
        "colab_type": "code",
        "colab": {}
      },
      "source": [
        ""
      ],
      "execution_count": 0,
      "outputs": []
    }
  ]
}