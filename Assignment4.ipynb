{
  "nbformat": 4,
  "nbformat_minor": 0,
  "metadata": {
    "colab": {
      "name": "Untitled26.ipynb",
      "provenance": [],
      "collapsed_sections": [],
      "authorship_tag": "ABX9TyOzdliOMESUp59nwsewcMC4",
      "include_colab_link": true
    },
    "kernelspec": {
      "name": "python3",
      "display_name": "Python 3"
    }
  },
  "cells": [
    {
      "cell_type": "markdown",
      "metadata": {
        "id": "view-in-github",
        "colab_type": "text"
      },
      "source": [
        "<a href=\"https://colab.research.google.com/github/DianeUmurerwa/DIANE_INFO3020_SPRING2020/blob/master/Assignment4.ipynb\" target=\"_parent\"><img src=\"https://colab.research.google.com/assets/colab-badge.svg\" alt=\"Open In Colab\"/></a>"
      ]
    },
    {
      "cell_type": "code",
      "metadata": {
        "id": "nscyrJEiNxa1",
        "colab_type": "code",
        "colab": {}
      },
      "source": [
        "import turtle\n",
        "\n",
        "def draw_squares(animal,side):\n",
        "    update=side\n",
        "    for i in range(4):\n",
        "        \n",
        "        for j in range(4):\n",
        "            animal.forward(side)\n",
        "            animal.left(90)\n",
        "      \n",
        "        animal.up()\n",
        "        x,y=animal.pos()\n",
        "        side+=update\n",
        "        animal.goto(x-update/2,y-update/2)\n",
        "        animal.down()\n",
        "\n",
        "animal=turtle.Turtle()\n",
        "animal.speed(0)\n",
        "animal.pencolor('red')\n",
        "animal.pensize(5)\n",
        "animal.screen.bgcolor('lime')\n",
        "\n",
        "draw_squares(animal,50)\n"
      ],
      "execution_count": 0,
      "outputs": []
    },
    {
      "cell_type": "code",
      "metadata": {
        "id": "suj0zhEbK9Ig",
        "colab_type": "code",
        "colab": {}
      },
      "source": [
        ""
      ],
      "execution_count": 0,
      "outputs": []
    },
    {
      "cell_type": "code",
      "metadata": {
        "id": "fX1zagq1QbBj",
        "colab_type": "code",
        "colab": {}
      },
      "source": [
        "import turtle\n",
        "\n",
        "window=turtle.Screen()\n",
        "window.bgcolor(\"lightgreen\")\n",
        "\n",
        "tess = turtle.Turtle()\n",
        "size =5\n",
        "\n",
        "while (tess.xcor()>-250 and tess.ycor()<250):\n",
        "\n",
        "      tess.seth(270)\n",
        "      tess.forward(size)\n",
        "\n",
        "      size += 5\n",
        "      tess.seth(180)\n",
        "      tess.forward(size)\n",
        "\n",
        "      size += 5\n",
        "      tess.seth(90)\n",
        "      tess.forward(size)\n",
        "\n",
        "      size += 5\n",
        "      tess.seth(0)\n",
        "      tess.forward(size)\n",
        "\n",
        "      size += 5\n",
        "\n",
        "x = input()"
      ],
      "execution_count": 0,
      "outputs": []
    },
    {
      "cell_type": "code",
      "metadata": {
        "id": "PJTqe3qnXc6Z",
        "colab_type": "code",
        "colab": {}
      },
      "source": [
        "# a function that returns the filename\"s extend file and accepts one argument\n",
        "#if it's not a valid name it returns an invalid filename\n",
        "\n",
        "filename = input('Enter a file name: ')\n",
        "try:\n",
        "  file =open(\"filename\",'w')\n",
        "  word =\"add\"\n",
        "  file.write(word)\n",
        "\n",
        "except IOError:\n",
        "  print ('invalid filename',filename)\n",
        "\n",
        "file.close()\n",
        "\n",
        "\n",
        "\n"
      ],
      "execution_count": 0,
      "outputs": []
    },
    {
      "cell_type": "code",
      "metadata": {
        "id": "PLSs3-3PZHI9",
        "colab_type": "code",
        "outputId": "714bdfaa-7dd9-4668-f73c-3a0876f5f39f",
        "colab": {
          "base_uri": "https://localhost:8080/",
          "height": 51
        }
      },
      "source": [
        "#function that replace(s, old, new)that replaces all occurrences of the old character\n",
        "\n",
        "def replace (s, old, new):\n",
        "    return new.join(s.split(old))\n",
        "\n",
        "sentence =\"I love spom! Spom is my favorite food. Spom, spom, yum!\"\n",
        "print(replace(sentence,\"o\",\"a\"))\n",
        "\n",
        "print(replace(\"Mississippi\",\"s\",\"S\"))\n",
        "\n",
        "\n"
      ],
      "execution_count": 0,
      "outputs": [
        {
          "output_type": "stream",
          "text": [
            "I lave spam! Spam is my favarite faad. Spam, spam, yum!\n",
            "MiSSiSSippi\n"
          ],
          "name": "stdout"
        }
      ]
    },
    {
      "cell_type": "code",
      "metadata": {
        "id": "bj0DLjFIdhX0",
        "colab_type": "code",
        "colab": {}
      },
      "source": [
        ""
      ],
      "execution_count": 0,
      "outputs": []
    }
  ]
}