{
  "nbformat": 4,
  "nbformat_minor": 0,
  "metadata": {
    "colab": {
      "name": "Untitled10.ipynb",
      "provenance": [],
      "authorship_tag": "ABX9TyMLxv9z1yzoVLAyeVDGcowk",
      "include_colab_link": true
    },
    "kernelspec": {
      "name": "python3",
      "display_name": "Python 3"
    }
  },
  "cells": [
    {
      "cell_type": "markdown",
      "metadata": {
        "id": "view-in-github",
        "colab_type": "text"
      },
      "source": [
        "<a href=\"https://colab.research.google.com/github/DianeUmurerwa/DIANE_INFO3020_SPRING2020/blob/master/Assignment5.ipynb\" target=\"_parent\"><img src=\"https://colab.research.google.com/assets/colab-badge.svg\" alt=\"Open In Colab\"/></a>"
      ]
    },
    {
      "cell_type": "code",
      "metadata": {
        "id": "hWslwxXZfguU",
        "colab_type": "code",
        "colab": {
          "base_uri": "https://localhost:8080/",
          "height": 68
        },
        "outputId": "6073086c-30bd-4477-ed08-d6dc6acc424e"
      },
      "source": [
        "\n",
        "student = [\n",
        "           (\"student id\",[\"11235687\"]),\n",
        "           (\"student name\",[\"Diane Umurerwa\"]),\n",
        "            (\"course\",[\"INFO 3020\"],[\"INFO 3010\"])\n",
        "]\n",
        "print(student[0])\n",
        "print(student[1])\n",
        "print(student[2])"
      ],
      "execution_count": 42,
      "outputs": [
        {
          "output_type": "stream",
          "text": [
            "('student id', ['11235687'])\n",
            "('student name', ['Diane Umurerwa'])\n",
            "('course', ['INFO 3020'], ['INFO 3010'])\n"
          ],
          "name": "stdout"
        }
      ]
    },
    {
      "cell_type": "markdown",
      "metadata": {
        "id": "fTFxJln6mcYP",
        "colab_type": "text"
      },
      "source": [
        ""
      ]
    },
    {
      "cell_type": "code",
      "metadata": {
        "id": "TS8hO_Fcn-5T",
        "colab_type": "code",
        "colab": {
          "base_uri": "https://localhost:8080/",
          "height": 232
        },
        "outputId": "5e262f69-8446-4fd6-9fad-910cecd57111"
      },
      "source": [
        "#matrix of n(rows) and m(columns)\n",
        " n=[1,2,3]\n",
        " m=[5,6,7]\n",
        "\n",
        "#return the index of any specific data\n",
        "matrix=[]\n",
        "for  i in n:          \n",
        "    a =[] \n",
        "    for j in range(m):      \n",
        "         a.append(int(input())) \n",
        "    matrix.append(a) \n",
        "\n",
        "for  i in m: \n",
        "    for j in range(m): \n",
        "        print(matrix[i][j]) \n",
        "    print() \n",
        "   "
      ],
      "execution_count": 81,
      "outputs": [
        {
          "output_type": "error",
          "ename": "TypeError",
          "evalue": "ignored",
          "traceback": [
            "\u001b[0;31m---------------------------------------------------------------------------\u001b[0m",
            "\u001b[0;31mTypeError\u001b[0m                                 Traceback (most recent call last)",
            "\u001b[0;32m<ipython-input-81-b1f98e94ff31>\u001b[0m in \u001b[0;36m<module>\u001b[0;34m()\u001b[0m\n\u001b[1;32m      6\u001b[0m \u001b[0;32mfor\u001b[0m  \u001b[0mi\u001b[0m \u001b[0;32min\u001b[0m \u001b[0mn\u001b[0m\u001b[0;34m:\u001b[0m\u001b[0;34m\u001b[0m\u001b[0;34m\u001b[0m\u001b[0m\n\u001b[1;32m      7\u001b[0m    \u001b[0ma\u001b[0m \u001b[0;34m=\u001b[0m\u001b[0;34m[\u001b[0m\u001b[0;34m]\u001b[0m\u001b[0;34m\u001b[0m\u001b[0;34m\u001b[0m\u001b[0m\n\u001b[0;32m----> 8\u001b[0;31m    \u001b[0;32mfor\u001b[0m \u001b[0mj\u001b[0m \u001b[0;32min\u001b[0m \u001b[0mrange\u001b[0m\u001b[0;34m(\u001b[0m\u001b[0mm\u001b[0m\u001b[0;34m)\u001b[0m\u001b[0;34m:\u001b[0m\u001b[0;34m\u001b[0m\u001b[0;34m\u001b[0m\u001b[0m\n\u001b[0m\u001b[1;32m      9\u001b[0m         \u001b[0ma\u001b[0m\u001b[0;34m.\u001b[0m\u001b[0mappend\u001b[0m\u001b[0;34m(\u001b[0m\u001b[0mint\u001b[0m\u001b[0;34m(\u001b[0m\u001b[0minput\u001b[0m\u001b[0;34m(\u001b[0m\u001b[0;34m)\u001b[0m\u001b[0;34m)\u001b[0m\u001b[0;34m)\u001b[0m\u001b[0;34m\u001b[0m\u001b[0;34m\u001b[0m\u001b[0m\n\u001b[1;32m     10\u001b[0m    \u001b[0mmatrix\u001b[0m\u001b[0;34m.\u001b[0m\u001b[0mappend\u001b[0m\u001b[0;34m(\u001b[0m\u001b[0ma\u001b[0m\u001b[0;34m)\u001b[0m\u001b[0;34m\u001b[0m\u001b[0;34m\u001b[0m\u001b[0m\n",
            "\u001b[0;31mTypeError\u001b[0m: 'list' object cannot be interpreted as an integer"
          ]
        }
      ]
    },
    {
      "cell_type": "code",
      "metadata": {
        "id": "7WYNAaQ-oRK9",
        "colab_type": "code",
        "colab": {
          "base_uri": "https://localhost:8080/",
          "height": 51
        },
        "outputId": "0e07c7d5-a7dc-4a28-8d8e-e7d110dbb12b"
      },
      "source": [
        "#frequency of occurence of every word in one specific string\n",
        "dictionary = {}\n",
        "dictionary [\"one\"] = \"1\"\n",
        "dictionary [\"two\"]=\"2\"\n",
        "print(dictionary[\"one\"])\n",
        "print(dictionary[\"two\"])"
      ],
      "execution_count": 49,
      "outputs": [
        {
          "output_type": "stream",
          "text": [
            "1\n",
            "2\n"
          ],
          "name": "stdout"
        }
      ]
    },
    {
      "cell_type": "code",
      "metadata": {
        "id": "HY2kJtBdphea",
        "colab_type": "code",
        "colab": {}
      },
      "source": [
        "def count_a(text):\n",
        "  count=0\n",
        "\n",
        "  for letter in text:\n",
        "     if letter ==\"a\":\n",
        "         count+=1\n",
        "  return(count)\n",
        "\n",
        "  print(count_a(\"banana\"))"
      ],
      "execution_count": 0,
      "outputs": []
    },
    {
      "cell_type": "code",
      "metadata": {
        "id": "nl0IgaEQqpJa",
        "colab_type": "code",
        "colab": {}
      },
      "source": [
        "str[] =\" \""
      ],
      "execution_count": 0,
      "outputs": []
    }
  ]
}