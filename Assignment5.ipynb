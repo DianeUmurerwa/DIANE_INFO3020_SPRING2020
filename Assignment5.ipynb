{
  "nbformat": 4,
  "nbformat_minor": 0,
  "metadata": {
    "colab": {
      "name": "Untitled10.ipynb",
      "provenance": [],
      "collapsed_sections": [],
      "authorship_tag": "ABX9TyNlKnxzOqbFz7MqmHmRrxoU",
      "include_colab_link": true
    },
    "kernelspec": {
      "name": "python3",
      "display_name": "Python 3"
    }
  },
  "cells": [
    {
      "cell_type": "markdown",
      "metadata": {
        "id": "view-in-github",
        "colab_type": "text"
      },
      "source": [
        "<a href=\"https://colab.research.google.com/github/DianeUmurerwa/DIANE_INFO3020_SPRING2020/blob/master/Assignment5.ipynb\" target=\"_parent\"><img src=\"https://colab.research.google.com/assets/colab-badge.svg\" alt=\"Open In Colab\"/></a>"
      ]
    },
    {
      "cell_type": "code",
      "metadata": {
        "id": "hWslwxXZfguU",
        "colab_type": "code",
        "colab": {
          "base_uri": "https://localhost:8080/",
          "height": 68
        },
        "outputId": "6073086c-30bd-4477-ed08-d6dc6acc424e"
      },
      "source": [
        "\n",
        "student = [\n",
        "           (\"student id\",[\"11235687\"]),\n",
        "           (\"student name\",[\"Diane Umurerwa\"]),\n",
        "            (\"course\",[\"INFO 3020\"],[\"INFO 3010\"])\n",
        "]\n",
        "print(student[0])\n",
        "print(student[1])\n",
        "print(student[2])"
      ],
      "execution_count": 42,
      "outputs": [
        {
          "output_type": "stream",
          "text": [
            "('student id', ['11235687'])\n",
            "('student name', ['Diane Umurerwa'])\n",
            "('course', ['INFO 3020'], ['INFO 3010'])\n"
          ],
          "name": "stdout"
        }
      ]
    },
    {
      "cell_type": "markdown",
      "metadata": {
        "id": "fTFxJln6mcYP",
        "colab_type": "text"
      },
      "source": [
        ""
      ]
    },
    {
      "cell_type": "code",
      "metadata": {
        "id": "TS8hO_Fcn-5T",
        "colab_type": "code",
        "colab": {}
      },
      "source": [
        "#matrix of n(rows) and m(columns)\n",
        " n=[1,2,3]\n",
        " m=[5,6,7]\n",
        "\n",
        "#return the index of any specific data\n",
        "matrix=[]\n",
        "for  i in n:          \n",
        "    a =[] \n",
        "    for j in m:      \n",
        "         a.append(int(input()))\n",
        "    matrix.append(a) \n",
        "\n",
        "for  i in m: \n",
        "    for j in m: \n",
        "         print(matrix[i][j]) \n",
        "    print()\n",
        "   "
      ],
      "execution_count": 0,
      "outputs": []
    },
    {
      "cell_type": "code",
      "metadata": {
        "id": "7WYNAaQ-oRK9",
        "colab_type": "code",
        "colab": {
          "base_uri": "https://localhost:8080/",
          "height": 51
        },
        "outputId": "2ccc8254-5b9e-48cf-fa69-03f0081c294c"
      },
      "source": [
        "#frequency of occurence of every word in one specific string\n",
        "dictionary = {}\n",
        "dictionary [\"one\"] = \"1\"\n",
        "dictionary [\"two\"]=\"2\"\n",
        "print(dictionary[\"one\"])\n",
        "print(dictionary[\"two\"])"
      ],
      "execution_count": 92,
      "outputs": [
        {
          "output_type": "stream",
          "text": [
            "1\n",
            "2\n"
          ],
          "name": "stdout"
        }
      ]
    },
    {
      "cell_type": "code",
      "metadata": {
        "id": "nl0IgaEQqpJa",
        "colab_type": "code",
        "colab": {}
      },
      "source": [
        ""
      ],
      "execution_count": 0,
      "outputs": []
    }
  ]
}