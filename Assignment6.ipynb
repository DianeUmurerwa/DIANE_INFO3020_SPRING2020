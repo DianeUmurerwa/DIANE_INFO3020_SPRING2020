{
  "nbformat": 4,
  "nbformat_minor": 0,
  "metadata": {
    "colab": {
      "name": "Untitled27.ipynb",
      "provenance": [],
      "authorship_tag": "ABX9TyMNN3Ms9yRZ13aUSG/Kpvq1",
      "include_colab_link": true
    },
    "kernelspec": {
      "name": "python3",
      "display_name": "Python 3"
    }
  },
  "cells": [
    {
      "cell_type": "markdown",
      "metadata": {
        "id": "view-in-github",
        "colab_type": "text"
      },
      "source": [
        "<a href=\"https://colab.research.google.com/github/DianeUmurerwa/DIANE_INFO3020_SPRING2020/blob/master/Assignment6.ipynb\" target=\"_parent\"><img src=\"https://colab.research.google.com/assets/colab-badge.svg\" alt=\"Open In Colab\"/></a>"
      ]
    },
    {
      "cell_type": "code",
      "metadata": {
        "id": "xGtyBGNFo747",
        "colab_type": "code",
        "colab": {}
      },
      "source": [
        "import numpy as np\n",
        "\n",
        "def writeNum():\n",
        "    filename =\"numList.txt\"\n",
        "    outfile = open(filename,\"w\")\n",
        "    outfile.write(\"1,2,3,4,5,6,7,8,9,10\")\n",
        "    outfile.close()\n",
        "\n",
        "def readNum():\n",
        "     readList =[]\n",
        "     numFile= open(\"numList\",\"r\")\n",
        "     readList=list(map(int, readList.split(\",\")))\n",
        "     numFile.close()\n",
        "\n",
        "     arrayList=np.array(readList)\n",
        "     arrayList[arrayList>100]=100\n",
        "\n",
        "     with open(\"resultList.txt\",\"w\") as resfile:\n",
        "        resfile.write(str(arrayList))\n",
        "     resfile.close()\n",
        "\n",
        "writeNum()\n",
        "readNum()"
      ],
      "execution_count": 0,
      "outputs": []
    },
    {
      "cell_type": "code",
      "metadata": {
        "id": "Kn9A91VhwEc1",
        "colab_type": "code",
        "colab": {
          "base_uri": "https://localhost:8080/",
          "height": 34
        },
        "outputId": "fc8c751f-046b-4ec0-b489-38077f821936"
      },
      "source": [
        "import random\n",
        "\n",
        "studentlist=(\n",
        "               (\"12313\",\"Diane\"),(\"21312\",\"Emma\"),(\"42443\",\"Serge\"),(\"24234\",\"Dorcy\"),(\"13242\",\"Axella\"),\n",
        "               (\"12424\",\"Divin\"),(\"13241\",\"Landry\"),(\"24242\",\"Joy\"),(\"14235\",\"David\"),(\"24342\",\"Ester\")\n",
        "             )\n",
        "\n",
        "def studentList():\n",
        "    with open(\"studentList.txt\",\"w\") as wfile:\n",
        "        for studentId,studentName in studentlist:\n",
        "            student=studentId+\",\"+studentName+\"#\"\n",
        "            wfile.write(student)\n",
        "    wfile.close()\n",
        "\n",
        "def rollCall():\n",
        "    with open(\"studentList.txt\",\"r\") as rfile:\n",
        "        rng=random.Random()\n",
        "        pos=rng.randrange(0,10)\n",
        "        studentList=rfile.read()\n",
        "        studentList=studentList.split(\"#\")\n",
        "        print(studentList[pos])\n",
        "\n",
        "studentList()\n",
        "rollCall()"
      ],
      "execution_count": 18,
      "outputs": [
        {
          "output_type": "stream",
          "text": [
            "24234,Dorcy\n"
          ],
          "name": "stdout"
        }
      ]
    }
  ]
}