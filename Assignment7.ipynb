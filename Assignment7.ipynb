{
  "nbformat": 4,
  "nbformat_minor": 0,
  "metadata": {
    "colab": {
      "name": "Untitled28.ipynb",
      "provenance": [],
      "authorship_tag": "ABX9TyOe7BQW6tayvSK39p3cYURI",
      "include_colab_link": true
    },
    "kernelspec": {
      "name": "python3",
      "display_name": "Python 3"
    }
  },
  "cells": [
    {
      "cell_type": "markdown",
      "metadata": {
        "id": "view-in-github",
        "colab_type": "text"
      },
      "source": [
        "<a href=\"https://colab.research.google.com/github/DianeUmurerwa/DIANE_INFO3020_SPRING2020/blob/master/Assignment7.ipynb\" target=\"_parent\"><img src=\"https://colab.research.google.com/assets/colab-badge.svg\" alt=\"Open In Colab\"/></a>"
      ]
    },
    {
      "cell_type": "code",
      "metadata": {
        "id": "ZmTMIXFSkWPt",
        "colab_type": "code",
        "colab": {}
      },
      "source": [
        "import turtle\n",
        "\n",
        "myTurtle =turtle.Turtle(shape=\"turtle\")\n",
        "myTurtle.speed(0);\n",
        "myTurtle.shape(\"arrow\")\n",
        "myTurtle.color(\"red\")\n",
        "\n",
        "def drawCenteredSquare (myTurtle, x, y, side):\n",
        "    myTurtle.up()\n",
        "    myTurtle.goto(x,y)\n",
        "    myTurtle.left(90)\n",
        "    myTurtle.forward(side/2)\n",
        "    myTurtle.left(90)\n",
        "    myTurtle.forward(side/2)\n",
        "    myTurtle.right(180)\n",
        "    myTurtle.down()\n",
        "    for i in range(4):\n",
        "        myTurtle.forward(side)\n",
        "        myTurtle.right(90)\n",
        "  \n",
        "def concentricBox(myTurtle, x, y, side):\n",
        "    if side <=100:\n",
        "        drawCenteredSquare(myTurtle, x, y, side)\n",
        "        concentricBox(myTurtle, x, y, side+10)\n",
        "\n",
        "concentricBox(myTurtle,10,20,20)\n",
        "win =turtle.Screen()\n",
        "win.exitonclick()"
      ],
      "execution_count": 0,
      "outputs": []
    },
    {
      "cell_type": "code",
      "metadata": {
        "id": "Va4HXFZQZ2jR",
        "colab_type": "code",
        "colab": {
          "base_uri": "https://localhost:8080/",
          "height": 34
        },
        "outputId": "ffe30028-791b-4c24-cf46-154083c754f7"
      },
      "source": [
        "def recursive_sum(nested_number_list):\n",
        "\n",
        "  total =0\n",
        "\n",
        "  for element in nested_number_list:\n",
        "    if type(element) is list:\n",
        "       total +=recursive_sum(element)\n",
        "    else:\n",
        "       total += element\n",
        "  return total\n",
        "\n",
        "print(recursive_sum([[1,2],[3,4],[3,4]]))"
      ],
      "execution_count": 10,
      "outputs": [
        {
          "output_type": "stream",
          "text": [
            "17\n"
          ],
          "name": "stdout"
        }
      ]
    }
  ]
}