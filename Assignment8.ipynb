{
  "nbformat": 4,
  "nbformat_minor": 0,
  "metadata": {
    "colab": {
      "name": "Untitled29.ipynb",
      "provenance": [],
      "authorship_tag": "ABX9TyPe02aBiuPVQVEQa3IkNbWC",
      "include_colab_link": true
    },
    "kernelspec": {
      "name": "python3",
      "display_name": "Python 3"
    }
  },
  "cells": [
    {
      "cell_type": "markdown",
      "metadata": {
        "id": "view-in-github",
        "colab_type": "text"
      },
      "source": [
        "<a href=\"https://colab.research.google.com/github/DianeUmurerwa/DIANE_INFO3020_SPRING2020/blob/master/Assignment8.ipynb\" target=\"_parent\"><img src=\"https://colab.research.google.com/assets/colab-badge.svg\" alt=\"Open In Colab\"/></a>"
      ]
    },
    {
      "cell_type": "code",
      "metadata": {
        "id": "afj-ZXE9pGuU",
        "colab_type": "code",
        "outputId": "ff0c06ea-83c3-442b-b969-0b6be722ab4f",
        "colab": {
          "base_uri": "https://localhost:8080/",
          "height": 34
        }
      },
      "source": [
        "#rewrite distance fucntion so that it takes two points instead of four numbers\n",
        "\n",
        "class Point:\n",
        "  def __init__(self):\n",
        "    self.x=0\n",
        "    self.y=0\n",
        "\n",
        "  def distance_from_origin(self):\n",
        "    return ((self.x**2)+(self.y**2))**0.5\n",
        "\n",
        "  def print_point(self):\n",
        "        print('({0}, {1})'.format(self.x, self.y))\n",
        "\n",
        "import math\n",
        "\n",
        "def distance(p1,p2):\n",
        "   result = sqrt(((p1.x-p2.x)*(p1.x-p2.x))+((p1.x-p2.x)*(p1.x-p2.x)));\n",
        "   print (result)\n",
        "\n",
        "p1 = point(2,5);\n",
        "p2 = point(3,10);\n",
        "distance(p1,p2);"
      ],
      "execution_count": 0,
      "outputs": [
        {
          "output_type": "stream",
          "text": [
            "1.4142135623730951\n"
          ],
          "name": "stdout"
        }
      ]
    },
    {
      "cell_type": "code",
      "metadata": {
        "id": "g-7G5rnHv9ml",
        "colab_type": "code",
        "outputId": "60c279e9-804a-4fa6-a4db-5ae37475573c",
        "colab": {
          "base_uri": "https://localhost:8080/",
          "height": 51
        }
      },
      "source": [
        "#Add a method reflect_x to Point which returns a new Point\n",
        "class Point:\n",
        "  def __init__(self, x=0, y=0):\n",
        "    self.x=x\n",
        "    self.y=y\n",
        "\n",
        "  def distance_from_origin(self):\n",
        "    return str(self.x)+\",\"+str(self.y)\n",
        "\n",
        "  def print_point(self):\n",
        "    return ('({0}, {1})'.format(self.x, self.y))\n",
        "\n",
        "  def halfway(self,target):\n",
        "    mx=(self.x + target.x)/2\n",
        "    my=(self.y + target.y)/2\n",
        "    return Point(mx, my)\n",
        "\n",
        "  def refect_x(self):\n",
        "     return self.x,-self.y\n",
        "     \n",
        "p=Point(3,4)\n",
        "print(\"The reflect x of Point(3,4) is \")\n",
        "print(p.refect_x())"
      ],
      "execution_count": 0,
      "outputs": [
        {
          "output_type": "stream",
          "text": [
            "The reflect x of Point(3,4) is \n",
            "(3, -4)\n"
          ],
          "name": "stdout"
        }
      ]
    },
    {
      "cell_type": "code",
      "metadata": {
        "id": "WOi3WfjRyPv8",
        "colab_type": "code",
        "outputId": "ecb53f1b-b1a8-4177-fbd1-29d6442c998f",
        "colab": {
          "base_uri": "https://localhost:8080/",
          "height": 34
        }
      },
      "source": [
        "#method area to the rectangle class that returns the area of any instance\n",
        "class Point:\n",
        "  def __init__(self,x=0,y=0):\n",
        "    self.x=x\n",
        "    self.y=y\n",
        "\n",
        "class Rectangle:\n",
        "    def __init__(self, posn,w,h):\n",
        "        self.corner =posn\n",
        "        self.width = w\n",
        "        self.height = h\n",
        "\n",
        "    def __str__(self):\n",
        "        return \"({0},{1},{2})\".format(self.corner, self.width, self.height)\n",
        "\n",
        "    def grow(self, delta_width, delta_height):\n",
        "         #grow object by deltas\n",
        "        self.width += delta_width\n",
        "        self.height += delta_height\n",
        "      \n",
        "    def move(self, dx, dy):\n",
        "        # move object by deltas\n",
        "        self.corner.x +=dx\n",
        "        self.corner.y +=dy\n",
        "    def area(self):\n",
        "      return self.width*self.height\n",
        "\n",
        "r=Rectangle(point(0,0),2,5)\n",
        "print(r.area())\n"
      ],
      "execution_count": 0,
      "outputs": [
        {
          "output_type": "stream",
          "text": [
            "10\n"
          ],
          "name": "stdout"
        }
      ]
    },
    {
      "cell_type": "code",
      "metadata": {
        "id": "P164l1540uiv",
        "colab_type": "code",
        "outputId": "991278b3-0891-4da1-8b0e-3ff63a74eb00",
        "colab": {
          "base_uri": "https://localhost:8080/",
          "height": 68
        }
      },
      "source": [
        "#flip method in the rectangle class that swaps width and height of any rectangle instance\n",
        "\n",
        "class Point:\n",
        "  def __init__(self,x=0,y=0):\n",
        "    self.x=x\n",
        "    self.y=y\n",
        "\n",
        "class Rectangle:\n",
        "    def __init__(self, posn,w,h):\n",
        "        self.corner =posn\n",
        "        self.width = w\n",
        "        self.height = h\n",
        "    def __str__(self):\n",
        "        return \"({0},{1},{2})\".format(self.corner, self.width, self.height)\n",
        "\n",
        "    def grow(self, delta_width, delta_height):\n",
        "         #grow object by deltas\n",
        "        self.width += delta_width\n",
        "        self.height += delta_height\n",
        "      \n",
        "    def move(self, dx, dy):\n",
        "        # move object by deltas\n",
        "        self.corner.x +=dx\n",
        "        self.corner.y +=dy\n",
        "   \n",
        "    def area(self):\n",
        "      return self.width*self.height\n",
        "\n",
        "\n",
        "    def flip(self):\n",
        "      temp = self.width\n",
        "      self.width =self.height\n",
        "      self.height = temp\n",
        "  \n",
        "p=Point(3,2)\n",
        "r=Rectangle(p,6,5)\n",
        "print(r.area())\n",
        "print(r.width, r.height)\n",
        "r.flip()\n",
        "print(r.width, r.height)"
      ],
      "execution_count": 0,
      "outputs": [
        {
          "output_type": "stream",
          "text": [
            "30\n",
            "6 5\n",
            "5 6\n"
          ],
          "name": "stdout"
        }
      ]
    },
    {
      "cell_type": "code",
      "metadata": {
        "id": "rAieJpSO5vxv",
        "colab_type": "code",
        "outputId": "9842456a-e92d-46c4-b5d3-f0706ba57089",
        "colab": {
          "base_uri": "https://localhost:8080/",
          "height": 51
        }
      },
      "source": [
        "#new method in the reclangle class to test if a point falls withing the rectangle\n",
        "class Point(object):\n",
        "   def __init__(self, x, y):\n",
        "       self.x = x\n",
        "       self.y = y\n",
        "   def xValue(self):\n",
        "       return self.x\n",
        "   def yValue(self):\n",
        "       return self.y      \n",
        "class Rectangle(object):\n",
        "   def __init__(self, p, width, height):\n",
        "       self.point = p\n",
        "       self.width = width\n",
        "       self.height = height\n",
        "   def contains(self, point):\n",
        "       x = point.xValue()\n",
        "       y = point.yValue()\n",
        "       if x >= 0 and x < self.width and y >= 0 and y < self.height:\n",
        "          return True\n",
        "       return False\n",
        "\n",
        "r = Rectangle(Point(0, 0), 10, 5)              \n",
        "print(r.contains(Point(0, 0)))           \n",
        "print(r.contains(Point(10, 0)))\n",
        "\n",
        "\n"
      ],
      "execution_count": 0,
      "outputs": [
        {
          "output_type": "stream",
          "text": [
            "True\n",
            "False\n"
          ],
          "name": "stdout"
        }
      ]
    }
  ]
}