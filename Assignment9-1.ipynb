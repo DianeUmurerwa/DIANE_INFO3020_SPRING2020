{
  "nbformat": 4,
  "nbformat_minor": 0,
  "metadata": {
    "colab": {
      "name": "Untitled30.ipynb",
      "provenance": [],
      "authorship_tag": "ABX9TyNmCC9K7eZbMNQ0tXxOpHNA",
      "include_colab_link": true
    },
    "kernelspec": {
      "name": "python3",
      "display_name": "Python 3"
    }
  },
  "cells": [
    {
      "cell_type": "markdown",
      "metadata": {
        "id": "view-in-github",
        "colab_type": "text"
      },
      "source": [
        "<a href=\"https://colab.research.google.com/github/DianeUmurerwa/DIANE_INFO3020_SPRING2020/blob/master/Assignment9-1.ipynb\" target=\"_parent\"><img src=\"https://colab.research.google.com/assets/colab-badge.svg\" alt=\"Open In Colab\"/></a>"
      ]
    },
    {
      "cell_type": "code",
      "metadata": {
        "id": "fL1DKhcpGD2K",
        "colab_type": "code",
        "colab": {
          "base_uri": "https://localhost:8080/",
          "height": 51
        },
        "outputId": "887c4c5e-e7ff-427f-ee5f-e43816bd4c91"
      },
      "source": [
        "#Method of myTime, which return the approximately interval minutes of any two time\n",
        "import math\n",
        "\n",
        "class myTime:\n",
        "        def __init__(self,hrs=0, mins=0, secs=0):\n",
        "           totalsecs = hrs*3600 + mins*60+ secs\n",
        "           self.hours = totalsecs/3600\n",
        "           secsLeft = totalsecs % 3600\n",
        "           self.minutes= secsLeft //60\n",
        "           self.seconds=secsLeft %60\n",
        "\n",
        "        def get_secs(self):\n",
        "                  return self.hours*3600+self.minutes*60 +self.seconds\n",
        "          \n",
        "        def compareTime(self,startTime):\n",
        "                  time1=self.get_secs()\n",
        "                  time2=startTime.get_secs()\n",
        "\n",
        "                  secsInterval=math.fabs(time1-time2)\n",
        "                  print(secsInterval)\n",
        "                  minsInterval=0\n",
        "\n",
        "                  while secsInterval > 0:\n",
        "                           secsInterval -=60\n",
        "                           minsInterval +=1\n",
        "                  return minsInterval\n",
        "\n",
        "time1=myTime(11,20,43)\n",
        "time2=myTime(10,20,30)\n",
        "\n",
        "print(\"The interval minutes are about\", time1.compareTime(time2),)\n"
      ],
      "execution_count": 9,
      "outputs": [
        {
          "output_type": "stream",
          "text": [
            "3626.0\n",
            "The interval minutes are about 61\n"
          ],
          "name": "stdout"
        }
      ]
    },
    {
      "cell_type": "code",
      "metadata": {
        "id": "gTKQ3Yj7Ko6d",
        "colab_type": "code",
        "colab": {
          "base_uri": "https://localhost:8080/",
          "height": 85
        },
        "outputId": "f2ebfb5d-b5b1-4735-d73a-d0cf7eccd702"
      },
      "source": [
        "#modify cmp so that aces are ranked higher than kings\n",
        "\n",
        "class Card:\n",
        "  suits=[\"Clubs\",\"Diamonds\",\"Hearts\",\"Spades\"]\n",
        "  ranks=[\"narf\",\"Ace\",\"2\",\"3\",\"4\",\"5\",\"6\",\"7\",\"8\",\"9\",\"10\",\"Jack\",\"Queen\",\"King\"]\n",
        "\n",
        "\n",
        "  def __init__(self,suit=0,rank=0):\n",
        "    self.suit=suit\n",
        "    self.rank=rank\n",
        "\n",
        "  def __str__(self):\n",
        "    return (self.ranks[self.rank]+\" of \"+self.suits[self.suit])\n",
        "\n",
        "  def cmp(self,other):\n",
        "     #checking suits\n",
        "    if self.suit>other.suit:return 1\n",
        "    if self.suit<other.suit:return -1\n",
        "    \n",
        "    if self.ranks[self.rank]==\"Ace\":\n",
        "        print(self.ranks[self.rank])\n",
        "        self.rank=14\n",
        "\n",
        "    if other.ranks[other.rank]==\"Ace\":\n",
        "        print(other.ranks[other.rank])\n",
        "        other.rank=14\n",
        "    #check ranks \n",
        "    if self.rank>other.rank: return 1\n",
        "\n",
        "    if self.rank<other.rank: return -1\n",
        "    return 0\n",
        "\n",
        "\n",
        "  def __eq__(self,other):\n",
        "    return self.cmp(other)==0\n",
        "\n",
        "  def __le__(self,other):\n",
        "    return self.cmp(other)<=0\n",
        "\n",
        "  def __ge__(self,other):\n",
        "    return self.cmp(other)>=0\n",
        "\n",
        "  def __gt__(self,other):\n",
        "    return self.cmp(other)>0\n",
        "\n",
        "  def __lt__(self,other):\n",
        "    return self.cmp(other)<0\n",
        "\n",
        "  def __ne__(self,other):\n",
        "    return self.cmp(other)!=0\n",
        "\n",
        "card1=Card(1,1)\n",
        "print(\"card1:\",card1)\n",
        "\n",
        "card2=Card(1,13)\n",
        "print(\"card2:\",card2)\n",
        "print(card1>card2)"
      ],
      "execution_count": 23,
      "outputs": [
        {
          "output_type": "stream",
          "text": [
            "card1: Ace of Diamonds\n",
            "card2: King of Diamonds\n",
            "Ace\n",
            "True\n"
          ],
          "name": "stdout"
        }
      ]
    },
    {
      "cell_type": "code",
      "metadata": {
        "id": "nHUKtNFGS5J3",
        "colab_type": "code",
        "colab": {
          "base_uri": "https://localhost:8080/",
          "height": 51
        },
        "outputId": "0e72fa9f-8116-4b29-e075-8d9c44acd811"
      },
      "source": [
        "#A function named readposint that uses the input dialog to prompt the user for positive integer\n",
        "\n",
        "def main():\n",
        "  try:\n",
        "     readposint=int(input(\"Enter a positive integer: \"))\n",
        "\n",
        "     if readposint <0:\n",
        "      print(\"Input is not a positive number integer.\")\n",
        "     else:\n",
        "      print(\"Entered positive value:\",readposint)\n",
        "\n",
        "  except ValueError:\n",
        "        print(\"value must be an integer\")\n",
        "\n",
        "main()"
      ],
      "execution_count": 47,
      "outputs": [
        {
          "output_type": "stream",
          "text": [
            "Enter a positive integer: w\n",
            "value must be an integer\n"
          ],
          "name": "stdout"
        }
      ]
    }
  ]
}