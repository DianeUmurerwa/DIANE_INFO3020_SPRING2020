{
  "nbformat": 4,
  "nbformat_minor": 0,
  "metadata": {
    "colab": {
      "name": "Untitled2.ipynb",
      "provenance": [],
      "authorship_tag": "ABX9TyMPUbycY2BJFhGc8lWIczld",
      "include_colab_link": true
    },
    "kernelspec": {
      "name": "python3",
      "display_name": "Python 3"
    }
  },
  "cells": [
    {
      "cell_type": "markdown",
      "metadata": {
        "id": "view-in-github",
        "colab_type": "text"
      },
      "source": [
        "<a href=\"https://colab.research.google.com/github/DianeUmurerwa/DIANE_INFO3020_SPRING2020/blob/master/BasicsPython.ipynb\" target=\"_parent\"><img src=\"https://colab.research.google.com/assets/colab-badge.svg\" alt=\"Open In Colab\"/></a>"
      ]
    },
    {
      "cell_type": "code",
      "metadata": {
        "id": "2l2lYGtYoKKa",
        "colab_type": "code",
        "colab": {
          "base_uri": "https://localhost:8080/",
          "height": 34
        },
        "outputId": "1fdd11ee-a391-4833-e963-791373e88dfd"
      },
      "source": [
        "\n",
        "#This is my first program\n",
        "print(\"hello world\")"
      ],
      "execution_count": 3,
      "outputs": [
        {
          "output_type": "stream",
          "text": [
            "hello world\n"
          ],
          "name": "stdout"
        }
      ]
    },
    {
      "cell_type": "code",
      "metadata": {
        "id": "m787I7nUpAJM",
        "colab_type": "code",
        "colab": {
          "base_uri": "https://localhost:8080/",
          "height": 34
        },
        "outputId": "9d0e4bef-617b-43fe-c2ef-7722538defd4"
      },
      "source": [
        "#Have to start with a letter or underscore\n",
        "_personName =\"BRUCE\"\n",
        "print(_personName)\n"
      ],
      "execution_count": 8,
      "outputs": [
        {
          "output_type": "stream",
          "text": [
            "BRUCE\n"
          ],
          "name": "stdout"
        }
      ]
    },
    {
      "cell_type": "code",
      "metadata": {
        "id": "jWK6dYgEqaIs",
        "colab_type": "code",
        "colab": {
          "base_uri": "https://localhost:8080/",
          "height": 34
        },
        "outputId": "7f8563a5-ad9a-487b-e7b0-db40cb777672"
      },
      "source": [
        "#complex name\n",
        "j=3\n",
        "c=1+2j\n",
        "c\n"
      ],
      "execution_count": 10,
      "outputs": [
        {
          "output_type": "execute_result",
          "data": {
            "text/plain": [
              "(1+2j)"
            ]
          },
          "metadata": {
            "tags": []
          },
          "execution_count": 10
        }
      ]
    },
    {
      "cell_type": "code",
      "metadata": {
        "id": "O63_qM-UrVsW",
        "colab_type": "code",
        "colab": {
          "base_uri": "https://localhost:8080/",
          "height": 153
        },
        "outputId": "12cc4281-224a-4324-8f53-4177fc686f34"
      },
      "source": [
        "#** is for exponent\n",
        "x=7\n",
        "y=5\n",
        "print(x**y)\n",
        "\n",
        "#modulus\n",
        "print(7%5)\n",
        "\n",
        "#additive valuation\n",
        "x+=10 #x=x+10\n",
        "print(x)\n",
        "print(x!=y) # not equals\n",
        "print(x==y) #equals\n",
        "print(x>y)\n",
        "print(x<=y)\n"
      ],
      "execution_count": 24,
      "outputs": [
        {
          "output_type": "stream",
          "text": [
            "16807\n",
            "2\n",
            "17\n",
            "True\n",
            "False\n",
            "True\n",
            "False\n",
            "True\n"
          ],
          "name": "stdout"
        }
      ]
    },
    {
      "cell_type": "code",
      "metadata": {
        "id": "a69nEArKuNii",
        "colab_type": "code",
        "colab": {
          "base_uri": "https://localhost:8080/",
          "height": 34
        },
        "outputId": "d68219ff-b5dc-4845-c48e-198c771d41bb"
      },
      "source": [
        "# here\"+\"represents concatenation not addition \n",
        "fruit = \"banana\"\n",
        "baked_food = \" nutbread\"\n",
        "print(fruit + baked_food)"
      ],
      "execution_count": 28,
      "outputs": [
        {
          "output_type": "stream",
          "text": [
            "banana nutbread\n"
          ],
          "name": "stdout"
        }
      ]
    },
    {
      "cell_type": "code",
      "metadata": {
        "id": "OxPhHrq-xZ2T",
        "colab_type": "code",
        "colab": {
          "base_uri": "https://localhost:8080/",
          "height": 51
        },
        "outputId": "914c5d27-b66e-4907-a716-bd0149a18942"
      },
      "source": [
        "#use input to interact with user\n",
        "name = input(\"Please input your name \")\n",
        "print(name)"
      ],
      "execution_count": 30,
      "outputs": [
        {
          "output_type": "stream",
          "text": [
            "Please input your name Fab\n",
            "Fab\n"
          ],
          "name": "stdout"
        }
      ]
    },
    {
      "cell_type": "code",
      "metadata": {
        "id": "Z-U_FuCLyDV1",
        "colab_type": "code",
        "colab": {
          "base_uri": "https://localhost:8080/",
          "height": 51
        },
        "outputId": "af247099-c672-45d1-f564-ffd949b8ae14"
      },
      "source": [
        "#composition\n",
        "radius = float(input (\"Please input the radius: \"))\n",
        "area= 3.14* radius **2\n",
        "print(\"The area of the circle is \",area)\n",
        "\n"
      ],
      "execution_count": 33,
      "outputs": [
        {
          "output_type": "stream",
          "text": [
            "Please input the radius: 3\n",
            "The area of the circle is  28.26\n"
          ],
          "name": "stdout"
        }
      ]
    }
  ]
}