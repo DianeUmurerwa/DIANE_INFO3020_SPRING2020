{
  "nbformat": 4,
  "nbformat_minor": 0,
  "metadata": {
    "colab": {
      "name": "Untitled35.ipynb",
      "provenance": [],
      "collapsed_sections": [],
      "machine_shape": "hm",
      "authorship_tag": "ABX9TyOME3MqM+eBfZdKvedHQGEW",
      "include_colab_link": true
    },
    "kernelspec": {
      "name": "python3",
      "display_name": "Python 3"
    }
  },
  "cells": [
    {
      "cell_type": "markdown",
      "metadata": {
        "id": "view-in-github",
        "colab_type": "text"
      },
      "source": [
        "<a href=\"https://colab.research.google.com/github/DianeUmurerwa/DIANE_INFO3020_SPRING2020/blob/master/Exam.ipynb\" target=\"_parent\"><img src=\"https://colab.research.google.com/assets/colab-badge.svg\" alt=\"Open In Colab\"/></a>"
      ]
    },
    {
      "cell_type": "code",
      "metadata": {
        "id": "thPZ9drl0ZEy",
        "colab_type": "code",
        "outputId": "fda69255-5293-4fcb-8684-c15c1f2b3dff",
        "colab": {
          "base_uri": "https://localhost:8080/",
          "height": 51
        }
      },
      "source": [
        "#print a string content\n",
        "\n",
        "string =input(\"Please input a string: \")\n",
        "print(string)"
      ],
      "execution_count": 0,
      "outputs": [
        {
          "output_type": "stream",
          "text": [
            "Please input a string: Hello World!\n",
            "Hello World!\n"
          ],
          "name": "stdout"
        }
      ]
    },
    {
      "cell_type": "code",
      "metadata": {
        "id": "oWxsc9n81fTi",
        "colab_type": "code",
        "outputId": "3476ff17-95bb-48a9-8f55-a8c2f51db9b4",
        "colab": {
          "base_uri": "https://localhost:8080/",
          "height": 34
        }
      },
      "source": [
        "total = 0\n",
        "for num in range (1,1001):\n",
        "  if (num%2 == 0):\n",
        "   total = total + num\n",
        "print (\"the total is \", total)"
      ],
      "execution_count": 0,
      "outputs": [
        {
          "output_type": "stream",
          "text": [
            "the total is  250500\n"
          ],
          "name": "stdout"
        }
      ]
    },
    {
      "cell_type": "code",
      "metadata": {
        "id": "g_Gpwgiz37oj",
        "colab_type": "code",
        "colab": {
          "base_uri": "https://localhost:8080/",
          "height": 34
        },
        "outputId": "083e2fb8-793c-4358-cf7b-dcaa905772ab"
      },
      "source": [
        "#given a number list, write a function that gets the product of all the numbers in the list\n",
        "\n",
        "product =1 \n",
        "def recursive_product(number_list):\n",
        "  \n",
        "   global product\n",
        "  \n",
        "   for numbers in number_list:\n",
        "       if type(numbers) == list:\n",
        "               recursive_product(numbers)\n",
        "       else:\n",
        "           product*=numbers\n",
        "   return product  \n",
        "\n",
        "number_list=[12,10,3,2,[6,[7,8,9],19,21],21]\n",
        "print(recursive_product(number_list))"
      ],
      "execution_count": 20,
      "outputs": [
        {
          "output_type": "stream",
          "text": [
            "18243429120\n"
          ],
          "name": "stdout"
        }
      ]
    },
    {
      "cell_type": "code",
      "metadata": {
        "id": "4wOrkaSkLfwN",
        "colab_type": "code",
        "colab": {}
      },
      "source": [
        "import numpy as np\n",
        "\n",
        "matrix=[[23,43,12],[32,12,52],[15,35,52],[19,28,56]]\n",
        "\n",
        "array = np.array(matrix)\n",
        "arraylist=np.where(array >20, 0, array)\n",
        "with open(\"result.txt\",\"w\") as myfile:\n",
        "    myfile.write(str(arraylist))\n",
        "myfile.close()\n",
        "#print(arraylist)"
      ],
      "execution_count": 0,
      "outputs": []
    },
    {
      "cell_type": "code",
      "metadata": {
        "id": "mXx9Y11pWNLv",
        "colab_type": "code",
        "outputId": "25492a41-e052-49d3-fb1c-e026d6b5aceb",
        "colab": {
          "base_uri": "https://localhost:8080/",
          "height": 119
        }
      },
      "source": [
        "def CountFrequency(number_list): \n",
        "  \n",
        "    # Creating an empty dictionary  \n",
        "    freq = {} \n",
        "    for item in number_list: \n",
        "        if (item in freq): \n",
        "            freq[item] += 1\n",
        "        else: \n",
        "            freq[item] = 1\n",
        "  \n",
        "    for key, value in freq.items(): \n",
        "        print (\"% d % d\"%(key, value)) \n",
        "  \n",
        "# Driver function \n",
        "if __name__ == \"__main__\":  \n",
        "    number_list =[1, 3, 2, 4, 2, 3, 2, 2, 3, 2, 2, 4, 2, 32, 3, 2,  3, 5,3,2,4,2,2,4,2,2,4,2,2,4,2,3,1,3,2,3] \n",
        "  \n",
        "    CountFrequency(my_list) \n"
      ],
      "execution_count": 0,
      "outputs": [
        {
          "output_type": "stream",
          "text": [
            " 1  2\n",
            " 3  9\n",
            " 2  17\n",
            " 4  6\n",
            " 32  1\n",
            " 5  1\n"
          ],
          "name": "stdout"
        }
      ]
    },
    {
      "cell_type": "code",
      "metadata": {
        "id": "oBNH3G0JIoIY",
        "colab_type": "code",
        "outputId": "e7f6828e-aa51-4c5b-d2ab-c8726b2604f7",
        "colab": {
          "base_uri": "https://localhost:8080/",
          "height": 34
        }
      },
      "source": [
        "class Point:\n",
        "  def __init__(self,x=0,y=0):\n",
        "    self.x=x\n",
        "    self.y=y\n",
        "  def distance_from_origin(self):\n",
        "    return (self.x**2+self.y**2)**0.5\n",
        " \n",
        "  def __str__(self):\n",
        "    return \"({0},{1})\".format(self.x,self.y)\n",
        "\n",
        "  \n",
        "\n",
        "p=Point(3,4)\n",
        "print(\"The point is\",p)\n",
        "\n"
      ],
      "execution_count": 0,
      "outputs": [
        {
          "output_type": "stream",
          "text": [
            "The point is (3,4)\n"
          ],
          "name": "stdout"
        }
      ]
    },
    {
      "cell_type": "code",
      "metadata": {
        "id": "xFJWZfcmJOBs",
        "colab_type": "code",
        "outputId": "ce72c844-3a08-46fc-aafd-38722b48a942",
        "colab": {
          "base_uri": "https://localhost:8080/",
          "height": 34
        }
      },
      "source": [
        "import math\n",
        "class Point:\n",
        "  def __init__(self,x=0,y=0):\n",
        "    self.x=x\n",
        "    self.y=y\n",
        "  def distance_from_origin(self):\n",
        "    return (self.x**2+self.y**2)**0.5\n",
        " \n",
        "  def __str__(self):\n",
        "    return \"({0},{1})\".format(self.x,self.y)\n",
        "  \n",
        "  def add(p1,p2):\n",
        "     x=(p1.x+p2.x)\n",
        "     y=(p1.y+p2.y)\n",
        "     return Point(x,y)\n",
        "\n",
        "p1=Point(2,3)\n",
        "p2=Point(3,4)\n",
        "sum = p1.add(p2)\n",
        "print(\"The point is\",sum)\n"
      ],
      "execution_count": 0,
      "outputs": [
        {
          "output_type": "stream",
          "text": [
            "The point is (5,7)\n"
          ],
          "name": "stdout"
        }
      ]
    },
    {
      "cell_type": "code",
      "metadata": {
        "id": "e0v6hcfR_T7s",
        "colab_type": "code",
        "colab": {}
      },
      "source": [
        ""
      ],
      "execution_count": 0,
      "outputs": []
    }
  ]
}