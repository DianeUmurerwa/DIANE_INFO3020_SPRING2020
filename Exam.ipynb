{
  "nbformat": 4,
  "nbformat_minor": 0,
  "metadata": {
    "colab": {
      "name": "Untitled35.ipynb",
      "provenance": [],
      "collapsed_sections": [],
      "authorship_tag": "ABX9TyMg+EzaSgCMip8Ajr+Ym20O",
      "include_colab_link": true
    },
    "kernelspec": {
      "name": "python3",
      "display_name": "Python 3"
    }
  },
  "cells": [
    {
      "cell_type": "markdown",
      "metadata": {
        "id": "view-in-github",
        "colab_type": "text"
      },
      "source": [
        "<a href=\"https://colab.research.google.com/github/DianeUmurerwa/DIANE_INFO3020_SPRING2020/blob/master/Exam.ipynb\" target=\"_parent\"><img src=\"https://colab.research.google.com/assets/colab-badge.svg\" alt=\"Open In Colab\"/></a>"
      ]
    },
    {
      "cell_type": "code",
      "metadata": {
        "id": "thPZ9drl0ZEy",
        "colab_type": "code",
        "outputId": "fda69255-5293-4fcb-8684-c15c1f2b3dff",
        "colab": {
          "base_uri": "https://localhost:8080/",
          "height": 51
        }
      },
      "source": [
        "#print a sting content\n",
        "\n",
        "string =input(\"Please input a string: \")\n",
        "print(string)"
      ],
      "execution_count": 0,
      "outputs": [
        {
          "output_type": "stream",
          "text": [
            "Please input a string: Hello World!\n",
            "Hello World!\n"
          ],
          "name": "stdout"
        }
      ]
    },
    {
      "cell_type": "code",
      "metadata": {
        "id": "oWxsc9n81fTi",
        "colab_type": "code",
        "outputId": "3476ff17-95bb-48a9-8f55-a8c2f51db9b4",
        "colab": {
          "base_uri": "https://localhost:8080/",
          "height": 34
        }
      },
      "source": [
        "total = 0\n",
        "for num in range (1,1001):\n",
        "  if (num%2 == 0):\n",
        "   total = total + num\n",
        "print (\"the total is \", total)"
      ],
      "execution_count": 0,
      "outputs": [
        {
          "output_type": "stream",
          "text": [
            "the total is  250500\n"
          ],
          "name": "stdout"
        }
      ]
    },
    {
      "cell_type": "code",
      "metadata": {
        "id": "g_Gpwgiz37oj",
        "colab_type": "code",
        "outputId": "7bffc6ff-67ec-4946-9ee3-f7a6072f7ce7",
        "colab": {
          "base_uri": "https://localhost:8080/",
          "height": 34
        }
      },
      "source": [
        "#given a number list, write a function that gets the product of all the numbers in the list\n",
        "def recursive_product(nested_number_list):\n",
        "    product=1\n",
        "    for element in nested_number_list:\n",
        "        if type(element) is list:\n",
        "            product*=i\n",
        "    return product\n",
        "numbers=[12,10,3,2,[6,[7,8,9],19,21],21]\n",
        "print(recursive_product(numbers))\n"
      ],
      "execution_count": 61,
      "outputs": [
        {
          "output_type": "stream",
          "text": [
            "21\n"
          ],
          "name": "stdout"
        }
      ]
    },
    {
      "cell_type": "code",
      "metadata": {
        "id": "4wOrkaSkLfwN",
        "colab_type": "code",
        "colab": {
          "base_uri": "https://localhost:8080/",
          "height": 85
        },
        "outputId": "808969a0-1dc6-481e-82c8-c638f816017a"
      },
      "source": [
        "import numpy as np\n",
        "\n",
        "matrix=[[23,43,12],[32,12,52],[15,35,52],[19,28,56]]\n",
        "\n",
        "array = np.array(matrix)\n",
        "print(np.where(array >20, 0, array))"
      ],
      "execution_count": 86,
      "outputs": [
        {
          "output_type": "stream",
          "text": [
            "[[ 0  0 12]\n",
            " [ 0 12  0]\n",
            " [15  0  0]\n",
            " [19  0  0]]\n"
          ],
          "name": "stdout"
        }
      ]
    },
    {
      "cell_type": "code",
      "metadata": {
        "id": "mXx9Y11pWNLv",
        "colab_type": "code",
        "colab": {}
      },
      "source": [
        ""
      ],
      "execution_count": 0,
      "outputs": []
    },
    {
      "cell_type": "code",
      "metadata": {
        "id": "oBNH3G0JIoIY",
        "colab_type": "code",
        "colab": {}
      },
      "source": [
        ""
      ],
      "execution_count": 0,
      "outputs": []
    },
    {
      "cell_type": "code",
      "metadata": {
        "id": "xFJWZfcmJOBs",
        "colab_type": "code",
        "colab": {}
      },
      "source": [
        ""
      ],
      "execution_count": 0,
      "outputs": []
    },
    {
      "cell_type": "code",
      "metadata": {
        "id": "e0v6hcfR_T7s",
        "colab_type": "code",
        "colab": {}
      },
      "source": [
        ""
      ],
      "execution_count": 0,
      "outputs": []
    }
  ]
}