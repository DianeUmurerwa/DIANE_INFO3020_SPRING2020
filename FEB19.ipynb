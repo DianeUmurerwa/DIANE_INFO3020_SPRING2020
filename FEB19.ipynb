{
  "nbformat": 4,
  "nbformat_minor": 0,
  "metadata": {
    "colab": {
      "name": "Untitled12.ipynb",
      "provenance": [],
      "authorship_tag": "ABX9TyOeL7kiABIl2rHccPKH78wD",
      "include_colab_link": true
    },
    "kernelspec": {
      "name": "python3",
      "display_name": "Python 3"
    }
  },
  "cells": [
    {
      "cell_type": "markdown",
      "metadata": {
        "id": "view-in-github",
        "colab_type": "text"
      },
      "source": [
        "<a href=\"https://colab.research.google.com/github/DianeUmurerwa/DIANE_INFO3020_SPRING2020/blob/master/FEB19.ipynb\" target=\"_parent\"><img src=\"https://colab.research.google.com/assets/colab-badge.svg\" alt=\"Open In Colab\"/></a>"
      ]
    },
    {
      "cell_type": "code",
      "metadata": {
        "id": "OxFl2yIs0fad",
        "colab_type": "code",
        "colab": {
          "base_uri": "https://localhost:8080/",
          "height": 68
        },
        "outputId": "235e5a5d-8a9a-4c30-88d0-0a9560d52ab5"
      },
      "source": [
        "import numpy as np\n",
        "a= np.array([2,3,8])\n",
        "print(2.1*a)\n",
        "b=[2,3,8]\n",
        "print(2*b)\n",
        "\n",
        "print(np.dot(a,a))"
      ],
      "execution_count": 2,
      "outputs": [
        {
          "output_type": "stream",
          "text": [
            "[ 4.2  6.3 16.8]\n",
            "[2, 3, 8, 2, 3, 8]\n",
            "77\n"
          ],
          "name": "stdout"
        }
      ]
    },
    {
      "cell_type": "code",
      "metadata": {
        "id": "83ji7Ajg2PAz",
        "colab_type": "code",
        "colab": {
          "base_uri": "https://localhost:8080/",
          "height": 34
        },
        "outputId": "d9413d26-97ef-464e-f87c-c03f1dc6c107"
      },
      "source": [
        "a=np.array([2,3,8])\n",
        "a[2]\n",
        "a[1:]"
      ],
      "execution_count": 5,
      "outputs": [
        {
          "output_type": "execute_result",
          "data": {
            "text/plain": [
              "array([3, 8])"
            ]
          },
          "metadata": {
            "tags": []
          },
          "execution_count": 5
        }
      ]
    },
    {
      "cell_type": "code",
      "metadata": {
        "id": "AKoyLLHN2w0_",
        "colab_type": "code",
        "colab": {
          "base_uri": "https://localhost:8080/",
          "height": 68
        },
        "outputId": "8b92159c-5ef8-45e0-b3f3-26a6ff1114ce"
      },
      "source": [
        "b = np.array([[2,3,8],[4,5,6]])\n",
        "print(b[1,2])\n",
        "print(b[:,1]) \n",
        "print(b[:][1])"
      ],
      "execution_count": 10,
      "outputs": [
        {
          "output_type": "stream",
          "text": [
            "6\n",
            "[3 5]\n",
            "[4 5 6]\n"
          ],
          "name": "stdout"
        }
      ]
    },
    {
      "cell_type": "code",
      "metadata": {
        "id": "fNRnlOtc3brt",
        "colab_type": "code",
        "colab": {
          "base_uri": "https://localhost:8080/",
          "height": 34
        },
        "outputId": "d69e02d0-9361-4f1b-b580-ca9076b8fac7"
      },
      "source": [
        "#masking\n",
        "a= np.array([230,10,284,39,76])\n",
        "cutoff=200\n",
        "print(a > cutoff)"
      ],
      "execution_count": 12,
      "outputs": [
        {
          "output_type": "stream",
          "text": [
            "[ True False  True False False]\n"
          ],
          "name": "stdout"
        }
      ]
    },
    {
      "cell_type": "code",
      "metadata": {
        "id": "okzaJvhm35i4",
        "colab_type": "code",
        "colab": {
          "base_uri": "https://localhost:8080/",
          "height": 51
        },
        "outputId": "ba048e4d-7c37-4226-ec6b-84dea29f4dcd"
      },
      "source": [
        "import numpy as np\n",
        "\n",
        "a= np.array([230,10,284,39,76])\n",
        "cutoff = 200\n",
        "new_a = []\n",
        "for x in a:\n",
        "  if x>cutoff:\n",
        "    new_a.append(a)\n",
        "  else:\n",
        "     new_a.append(x)\n",
        "a = np.array(new_a)\n",
        "print(a)"
      ],
      "execution_count": 13,
      "outputs": [
        {
          "output_type": "stream",
          "text": [
            "[array([230,  10, 284,  39,  76]) 10 array([230,  10, 284,  39,  76]) 39\n",
            " 76]\n"
          ],
          "name": "stdout"
        }
      ]
    },
    {
      "cell_type": "code",
      "metadata": {
        "id": "V6pEsUoC4XdZ",
        "colab_type": "code",
        "colab": {
          "base_uri": "https://localhost:8080/",
          "height": 68
        },
        "outputId": "5d83d02a-1403-49bb-fa46-7621f6cab347"
      },
      "source": [
        "import numpy as np\n",
        "\n",
        "a= np.array([[0,1],[2,3],[4,5]])\n",
        " \n",
        "b= np.array([100,1000])\n",
        "print(a*b)\n"
      ],
      "execution_count": 22,
      "outputs": [
        {
          "output_type": "stream",
          "text": [
            "[[   0 1000]\n",
            " [ 200 3000]\n",
            " [ 400 5000]]\n"
          ],
          "name": "stdout"
        }
      ]
    },
    {
      "cell_type": "code",
      "metadata": {
        "id": "2fBkbU4D6HKv",
        "colab_type": "code",
        "colab": {}
      },
      "source": [
        "with open(\"test.txt\",\"w\") as myfile:\n",
        "  myfile.write(\"My first file written from python\\n\")\n",
        "  myfile.write(\"---------------------------------\\n\")\n",
        "  myfile.write(\"Hello, world!\\n\")"
      ],
      "execution_count": 0,
      "outputs": []
    }
  ]
}