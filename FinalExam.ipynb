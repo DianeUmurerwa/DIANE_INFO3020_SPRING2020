{
  "nbformat": 4,
  "nbformat_minor": 0,
  "metadata": {
    "colab": {
      "name": "Untitled35.ipynb",
      "provenance": [],
      "collapsed_sections": [],
      "machine_shape": "hm",
      "authorship_tag": "ABX9TyPc1B+5qHtxLwyMVV4ZRbAk",
      "include_colab_link": true
    },
    "kernelspec": {
      "name": "python3",
      "display_name": "Python 3"
    }
  },
  "cells": [
    {
      "cell_type": "markdown",
      "metadata": {
        "id": "view-in-github",
        "colab_type": "text"
      },
      "source": [
        "<a href=\"https://colab.research.google.com/github/DianeUmurerwa/DIANE_INFO3020_SPRING2020/blob/master/FinalExam.ipynb\" target=\"_parent\"><img src=\"https://colab.research.google.com/assets/colab-badge.svg\" alt=\"Open In Colab\"/></a>"
      ]
    },
    {
      "cell_type": "code",
      "metadata": {
        "id": "thPZ9drl0ZEy",
        "colab_type": "code",
        "outputId": "fda69255-5293-4fcb-8684-c15c1f2b3dff",
        "colab": {
          "base_uri": "https://localhost:8080/",
          "height": 51
        }
      },
      "source": [
        "#print a string content\n",
        "\n",
        "string =input(\"Please input a string: \")\n",
        "print(string)"
      ],
      "execution_count": 0,
      "outputs": [
        {
          "output_type": "stream",
          "text": [
            "Please input a string: Hello World!\n",
            "Hello World!\n"
          ],
          "name": "stdout"
        }
      ]
    },
    {
      "cell_type": "code",
      "metadata": {
        "id": "oWxsc9n81fTi",
        "colab_type": "code",
        "outputId": "3476ff17-95bb-48a9-8f55-a8c2f51db9b4",
        "colab": {
          "base_uri": "https://localhost:8080/",
          "height": 34
        }
      },
      "source": [
        "total = 0\n",
        "for num in range (1,1001):\n",
        "  if (num%2 == 0):\n",
        "   total = total + num\n",
        "print (\"the total is \", total)"
      ],
      "execution_count": 0,
      "outputs": [
        {
          "output_type": "stream",
          "text": [
            "the total is  250500\n"
          ],
          "name": "stdout"
        }
      ]
    },
    {
      "cell_type": "code",
      "metadata": {
        "id": "g_Gpwgiz37oj",
        "colab_type": "code",
        "outputId": "083e2fb8-793c-4358-cf7b-dcaa905772ab",
        "colab": {
          "base_uri": "https://localhost:8080/",
          "height": 34
        }
      },
      "source": [
        "#given a number list, write a function that gets the product of all the numbers in the list\n",
        "\n",
        "product =1 \n",
        "def recursive_product(number_list):\n",
        "  \n",
        "   global product\n",
        "  \n",
        "   for numbers in number_list:\n",
        "       if type(numbers) == list:\n",
        "               recursive_product(numbers)\n",
        "       else:\n",
        "           product*=numbers\n",
        "   return product  \n",
        "\n",
        "number_list=[12,10,3,2,[6,[7,8,9],19,21],21]\n",
        "print(recursive_product(number_list))"
      ],
      "execution_count": 0,
      "outputs": [
        {
          "output_type": "stream",
          "text": [
            "18243429120\n"
          ],
          "name": "stdout"
        }
      ]
    },
    {
      "cell_type": "code",
      "metadata": {
        "id": "4wOrkaSkLfwN",
        "colab_type": "code",
        "colab": {}
      },
      "source": [
        "import numpy as np\n",
        "\n",
        "matrix=[[23,43,12],[32,12,52],[15,35,52],[19,28,56]]\n",
        "\n",
        "array = np.array(matrix)\n",
        "arraylist=np.where(array >20, 0, array)\n",
        "with open(\"result.txt\",\"w\") as myfile:\n",
        "    myfile.write(str(arraylist))\n",
        "myfile.close()\n",
        "#print(arraylist)"
      ],
      "execution_count": 0,
      "outputs": []
    },
    {
      "cell_type": "code",
      "metadata": {
        "id": "mXx9Y11pWNLv",
        "colab_type": "code",
        "outputId": "25492a41-e052-49d3-fb1c-e026d6b5aceb",
        "colab": {
          "base_uri": "https://localhost:8080/",
          "height": 119
        }
      },
      "source": [
        "def CountFrequency(number_list): \n",
        "  \n",
        "    # Creating an empty dictionary  \n",
        "    freq = {} \n",
        "    for item in number_list: \n",
        "        if (item in freq): \n",
        "            freq[item] += 1\n",
        "        else: \n",
        "            freq[item] = 1\n",
        "  \n",
        "    for key, value in freq.items(): \n",
        "        print (\"% d % d\"%(key, value)) \n",
        "  \n",
        "# Driver function \n",
        "if __name__ == \"__main__\":  \n",
        "    number_list =[1, 3, 2, 4, 2, 3, 2, 2, 3, 2, 2, 4, 2, 32, 3, 2,  3, 5,3,2,4,2,2,4,2,2,4,2,2,4,2,3,1,3,2,3] \n",
        "  \n",
        "    CountFrequency(my_list) \n"
      ],
      "execution_count": 0,
      "outputs": [
        {
          "output_type": "stream",
          "text": [
            " 1  2\n",
            " 3  9\n",
            " 2  17\n",
            " 4  6\n",
            " 32  1\n",
            " 5  1\n"
          ],
          "name": "stdout"
        }
      ]
    },
    {
      "cell_type": "code",
      "metadata": {
        "id": "oBNH3G0JIoIY",
        "colab_type": "code",
        "outputId": "e7f6828e-aa51-4c5b-d2ab-c8726b2604f7",
        "colab": {
          "base_uri": "https://localhost:8080/",
          "height": 34
        }
      },
      "source": [
        "class Point:\n",
        "  def __init__(self,x=0,y=0):\n",
        "    self.x=x\n",
        "    self.y=y\n",
        "  def distance_from_origin(self):\n",
        "    return (self.x**2+self.y**2)**0.5\n",
        " \n",
        "  def __str__(self):\n",
        "    return \"({0},{1})\".format(self.x,self.y)\n",
        "\n",
        "  \n",
        "\n",
        "p=Point(3,4)\n",
        "print(\"The point is\",p)\n",
        "\n"
      ],
      "execution_count": 0,
      "outputs": [
        {
          "output_type": "stream",
          "text": [
            "The point is (3,4)\n"
          ],
          "name": "stdout"
        }
      ]
    },
    {
      "cell_type": "code",
      "metadata": {
        "id": "xFJWZfcmJOBs",
        "colab_type": "code",
        "outputId": "ce72c844-3a08-46fc-aafd-38722b48a942",
        "colab": {
          "base_uri": "https://localhost:8080/",
          "height": 34
        }
      },
      "source": [
        "import math\n",
        "class Point:\n",
        "  def __init__(self,x=0,y=0):\n",
        "    self.x=x\n",
        "    self.y=y\n",
        "  def distance_from_origin(self):\n",
        "    return (self.x**2+self.y**2)**0.5\n",
        " \n",
        "  def __str__(self):\n",
        "    return \"({0},{1})\".format(self.x,self.y)\n",
        "  \n",
        "  def add(p1,p2):\n",
        "     x=(p1.x+p2.x)\n",
        "     y=(p1.y+p2.y)\n",
        "     return Point(x,y)\n",
        "\n",
        "p1=Point(2,3)\n",
        "p2=Point(3,4)\n",
        "sum = p1.add(p2)\n",
        "print(\"The point is\",sum)\n"
      ],
      "execution_count": 0,
      "outputs": [
        {
          "output_type": "stream",
          "text": [
            "The point is (5,7)\n"
          ],
          "name": "stdout"
        }
      ]
    },
    {
      "cell_type": "code",
      "metadata": {
        "id": "e0v6hcfR_T7s",
        "colab_type": "code",
        "colab": {}
      },
      "source": [
        "import xlrd\n",
        "\n",
        "filename = \"catering_sale_all.xls\"\n",
        "workbook = xlrd.open_workbook(filename)\n",
        "worksheet = workbook.sheet_by_name('Sheet1')\n",
        "\n",
        "user_choice =1\n",
        "if (user_choice!=0):\n",
        "#while (user_choice!=0):\n",
        "\n",
        " print(\"\\n0 exit\")\n",
        " print(\"1 chicken feet\")\n",
        " print(\"2 steamed dumplings\")\n",
        " print(\"3 ribs\");\n",
        " print(\"4 full chicken\")\n",
        " print(\"5 stuffed bun\")\n",
        " print(\"6 flowering cabbage\")\n",
        " print(\"7 doufu\")\n",
        " print(\"8 chive dumplings\")\n",
        " print(\"9 pudding\")\n",
        " print(\"10 original cabbage\")\n",
        "\n",
        "user_choice=int(input(\"Please input a number in the list: \"))\n",
        "\n",
        "sum=0\n",
        "\n",
        "if (user_choice!=0):\n",
        "\n",
        "    for i in sheet.col_values(user_choice):\n",
        "      if isinstance(i, float):\n",
        "         sum=sum+i\n",
        "           \n",
        "print(\"The total sale of choice {0} is {1}\".format(user_choice,sum))\n",
        "\n"
      ],
      "execution_count": 0,
      "outputs": []
    },
    {
      "cell_type": "code",
      "metadata": {
        "id": "WJEqL-6W8GM-",
        "colab_type": "code",
        "colab": {}
      },
      "source": [
        "import pymysql\n",
        "\n",
        "pydb=pymysql.connect('localhost','root','finalexam','world')\n",
        "dbcursor=pydb.cursor()\n",
        "\n",
        "sql=\"select name, avglife from country where continent ='North America','Asia','Africa',\n",
        "         'Europe','South America','Oceania','Antarctica'\"\n",
        "\n",
        "command = dbcursor.execute(sql)\n",
        "results = dbcursor.fetchall()\n",
        "\n",
        "continentlist=[]\n",
        "lifelist=[]\n",
        "\n",
        "for row in results:\n",
        "    continentlist.append(row[0])\n",
        "    lifelist.append(str(row[1]))\n",
        "\n",
        "print(\"avglife | continent \")\n",
        "print (\"% f | % s\"%(lifelist, continentlist)) "
      ],
      "execution_count": 0,
      "outputs": []
    },
    {
      "cell_type": "code",
      "metadata": {
        "id": "EnNvy0u28fXW",
        "colab_type": "code",
        "colab": {}
      },
      "source": [
        "import matplotlib.pyplot as plt\n",
        "import pymysql\n",
        "\n",
        "pydb=pymysql.connect('localhost','root','finalexam','world')\n",
        "dbcursor=pydb.cursor()\n",
        "\n",
        "sql=\"select name, population from country where continent ='North America','Asia','Africa',\n",
        "         'Europe','South America','Oceania','Antarctica'\"\n",
        "\n",
        "command = dbcursor.execute(sql)\n",
        "results = dbcursor.fetchall()\n",
        "\n",
        "continentlist=[]\n",
        "population_percentage= []\n",
        "\n",
        "for row in results:\n",
        "    continentlist.append(row[0])\n",
        "    population_percentage.append(str(row[1]))\n",
        "\n",
        "explode=(0.1,0.1,0.1,0.1,0.1,0.1,0.1)\n",
        "plt.pie(population_percentage, explode=explode,labels=continentlist, startangle=90, autopct='%.1f%%')\n",
        "plt.title('Population by continent')\n",
        "plt.show()"
      ],
      "execution_count": 0,
      "outputs": []
    },
    {
      "cell_type": "code",
      "metadata": {
        "id": "9AzifCua9K1A",
        "colab_type": "code",
        "colab": {}
      },
      "source": [
        "import pandas as pd\n",
        "import matplotlib.pyplot as plt\n",
        "\n",
        "filename='energy-production.csv'\n",
        "data=pd.read_csv(filename)\n",
        "\n",
        "selectYear=[]\n",
        "productionlist=[]\n",
        "\n",
        "selectYear=input(\"Please input a year between 1973 and 2014:\")\n",
        "\n",
        "try:\n",
        "    with open(filename) as file:\n",
        "        reader=csv.reader(file)\n",
        "        for row in reader:\n",
        "            if reader.line_num >1974:\n",
        "                   \n",
        "productionlist=['Solar/PV Energy','Geothermal Energy','Wind Energy','Natural Gas Plant Liquids',\n",
        "                'Hydroelectric Power','Biomass Energy','Nuclear Electric Power','Crude Oil','Natural Gas (Dry)','Coal']\n",
        "\n",
        "production= selectYear\n",
        "\n",
        "plt.ylim(0,10)\n",
        "plt.bar(productionlist,production)\n",
        "plt.show()"
      ],
      "execution_count": 0,
      "outputs": []
    }
  ]
}